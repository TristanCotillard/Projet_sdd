{
 "cells": [
  {
   "cell_type": "markdown",
   "metadata": {},
   "source": [
    "# Projet numérique de science des données - COTILLARD 1 Tristan 1 et OUCHTAR 2 Tasnime 2"
   ]
  },
  {
   "cell_type": "markdown",
   "metadata": {},
   "source": [
    "## Introduction au projet\n",
    "\n",
    "Il s'agit dans ce projet d'utiliser des données cartographiques décrivant des carrées de 30m x 30m pour construire un modèle prédictif de l'espèce d'arbre présente sur un tel carré.\n",
    "\n",
    "Le but final est d'appliquer ce modèle pour faire des prédictions pour des données pour lesquelles vous ne disposez pas d'une étiquette.\n",
    "\n",
    "__Consignes :__ \n",
    "* Vous devez rendre, par binôme :\n",
    "    * un notebook jupyter\n",
    "    * un fichier de prédictions (voir plus bas pour le format)\n",
    "* __Renseignez vos noms/prénoms__ dans le titre du notebook\n",
    "* Vous avez jusqu'au __1er juillet midi heure de Paris__\n",
    "* Déposez vos fichiers [sur Campus](https://campus.mines-paristech.fr/course/view.php?id=404) dans la section dédiée (un seul rendu par binôme est nécessaire)\n",
    "\n",
    "\n",
    "__Déroulé :__\n",
    "* Les séances du lundi 14/06 (15h30-17h) et jeudi 24/06 (15h30-17h) sont dédiées au projet numérique. Faites-en bon usage.\n",
    "* Certaines sections font appel à des notions qui n'auront pas encore été vues le 14/06 ; c'est indiqué le cas échéant."
   ]
  },
  {
   "cell_type": "markdown",
   "metadata": {},
   "source": [
    "## Données"
   ]
  },
  {
   "cell_type": "markdown",
   "metadata": {},
   "source": [
    "### Données publiques et privées\n",
    "\n",
    "Le dossier `data/` contient deux jeux de données :\n",
    "* `data/foret_public.tsv` contient les données étiquetées, à partir desquelles construire votre modèle\n",
    "* `data/foret_prive.tsv` contient les données non-étiquetées, pour lesquelles faire vos prédictions.\n",
    "\n",
    "Chaque ligne dans les données correspond à un carré de 30 m x 30m, décrit par les variables suivantes :\n",
    "* `altitude` : altitude en mètres\n",
    "* `exposition` : azimut en degrés \n",
    "* `pente` : pente en degrés\n",
    "* `distance_horizontale_hydro` : distance horizontale au point d'eau le plus proche (en mètres)\n",
    "* `distance_verticale_hydro` : distance verticale au point d'eau le plus proche (en mètres)\n",
    "* `distance_horizontale_route` : distance horizontale à la route la plus proche (en mètres)\n",
    "* `ombrage_0900` : index d'ombrages à 9h du matin, au solstice, sur une échelle de 0 à 255\n",
    "* `ombrage_1200` : index d'ombrages à midi, au solstice, sur une échelle de 0 à 255\n",
    "* `ombrage_1500` : index d'ombrages à 15h, au solstice, sur une échelle de 0 à 255\n",
    "* `distance_horizontale_depart_feu` : distance horizontale au départ de feu de forêt le plus proche (en mètres)\n",
    "* `espece` : étiquette : espèce d'arbre présente (0 = pin tordu ; 1 = peuplier)|"
   ]
  },
  {
   "cell_type": "markdown",
   "metadata": {},
   "source": [
    "### Chargement des données étiquetées"
   ]
  },
  {
   "cell_type": "code",
   "execution_count": 1,
   "metadata": {},
   "outputs": [
    {
     "name": "stdout",
     "output_type": "stream",
     "text": [
      "Populating the interactive namespace from numpy and matplotlib\n"
     ]
    }
   ],
   "source": [
    "%pylab inline"
   ]
  },
  {
   "cell_type": "code",
   "execution_count": 2,
   "metadata": {},
   "outputs": [],
   "source": [
    "import pandas as pd"
   ]
  },
  {
   "cell_type": "code",
   "execution_count": 3,
   "metadata": {},
   "outputs": [],
   "source": [
    "df_public = pd.read_csv('data/foret_public.tsv', delimiter='\\t')"
   ]
  },
  {
   "cell_type": "code",
   "execution_count": 4,
   "metadata": {},
   "outputs": [
    {
     "data": {
      "text/html": [
       "<div>\n",
       "<style scoped>\n",
       "    .dataframe tbody tr th:only-of-type {\n",
       "        vertical-align: middle;\n",
       "    }\n",
       "\n",
       "    .dataframe tbody tr th {\n",
       "        vertical-align: top;\n",
       "    }\n",
       "\n",
       "    .dataframe thead th {\n",
       "        text-align: right;\n",
       "    }\n",
       "</style>\n",
       "<table border=\"1\" class=\"dataframe\">\n",
       "  <thead>\n",
       "    <tr style=\"text-align: right;\">\n",
       "      <th></th>\n",
       "      <th>altitude</th>\n",
       "      <th>exposition</th>\n",
       "      <th>pente</th>\n",
       "      <th>distance_horizontale_hydro</th>\n",
       "      <th>distance_verticale_hydro</th>\n",
       "      <th>distance_horizontale_route</th>\n",
       "      <th>ombrage_0900</th>\n",
       "      <th>ombrage_1200</th>\n",
       "      <th>ombrage_1500</th>\n",
       "      <th>distance_horizontale_depart_feu</th>\n",
       "      <th>espece</th>\n",
       "    </tr>\n",
       "  </thead>\n",
       "  <tbody>\n",
       "    <tr>\n",
       "      <th>0</th>\n",
       "      <td>2804</td>\n",
       "      <td>139</td>\n",
       "      <td>9</td>\n",
       "      <td>268</td>\n",
       "      <td>65</td>\n",
       "      <td>3180</td>\n",
       "      <td>234</td>\n",
       "      <td>238</td>\n",
       "      <td>135</td>\n",
       "      <td>6121</td>\n",
       "      <td>0</td>\n",
       "    </tr>\n",
       "    <tr>\n",
       "      <th>1</th>\n",
       "      <td>2785</td>\n",
       "      <td>155</td>\n",
       "      <td>18</td>\n",
       "      <td>242</td>\n",
       "      <td>118</td>\n",
       "      <td>3090</td>\n",
       "      <td>238</td>\n",
       "      <td>238</td>\n",
       "      <td>122</td>\n",
       "      <td>6211</td>\n",
       "      <td>0</td>\n",
       "    </tr>\n",
       "    <tr>\n",
       "      <th>2</th>\n",
       "      <td>2579</td>\n",
       "      <td>132</td>\n",
       "      <td>6</td>\n",
       "      <td>300</td>\n",
       "      <td>-15</td>\n",
       "      <td>67</td>\n",
       "      <td>230</td>\n",
       "      <td>237</td>\n",
       "      <td>140</td>\n",
       "      <td>6031</td>\n",
       "      <td>0</td>\n",
       "    </tr>\n",
       "    <tr>\n",
       "      <th>3</th>\n",
       "      <td>2886</td>\n",
       "      <td>151</td>\n",
       "      <td>11</td>\n",
       "      <td>371</td>\n",
       "      <td>26</td>\n",
       "      <td>5253</td>\n",
       "      <td>234</td>\n",
       "      <td>240</td>\n",
       "      <td>136</td>\n",
       "      <td>4051</td>\n",
       "      <td>0</td>\n",
       "    </tr>\n",
       "    <tr>\n",
       "      <th>4</th>\n",
       "      <td>2742</td>\n",
       "      <td>134</td>\n",
       "      <td>22</td>\n",
       "      <td>150</td>\n",
       "      <td>69</td>\n",
       "      <td>3215</td>\n",
       "      <td>248</td>\n",
       "      <td>224</td>\n",
       "      <td>92</td>\n",
       "      <td>6091</td>\n",
       "      <td>0</td>\n",
       "    </tr>\n",
       "  </tbody>\n",
       "</table>\n",
       "</div>"
      ],
      "text/plain": [
       "   altitude  exposition  pente  distance_horizontale_hydro  \\\n",
       "0      2804         139      9                         268   \n",
       "1      2785         155     18                         242   \n",
       "2      2579         132      6                         300   \n",
       "3      2886         151     11                         371   \n",
       "4      2742         134     22                         150   \n",
       "\n",
       "   distance_verticale_hydro  distance_horizontale_route  ombrage_0900  \\\n",
       "0                        65                        3180           234   \n",
       "1                       118                        3090           238   \n",
       "2                       -15                          67           230   \n",
       "3                        26                        5253           234   \n",
       "4                        69                        3215           248   \n",
       "\n",
       "   ombrage_1200  ombrage_1500  distance_horizontale_depart_feu  espece  \n",
       "0           238           135                             6121       0  \n",
       "1           238           122                             6211       0  \n",
       "2           237           140                             6031       0  \n",
       "3           240           136                             4051       0  \n",
       "4           224            92                             6091       0  "
      ]
     },
     "execution_count": 4,
     "metadata": {},
     "output_type": "execute_result"
    }
   ],
   "source": [
    "df_public.head()"
   ]
  },
  {
   "cell_type": "markdown",
   "metadata": {},
   "source": [
    "### Extraction de la matrice de design et des étiquettes "
   ]
  },
  {
   "cell_type": "code",
   "execution_count": 5,
   "metadata": {},
   "outputs": [],
   "source": [
    "X_public = np.array(df_public.drop(columns=[\"espece\"]))\n",
    "y_public = np.array(df_public[\"espece\"])"
   ]
  },
  {
   "cell_type": "markdown",
   "metadata": {},
   "source": [
    "### Visualisation des variables\n",
    "\n",
    "#### Question 1\n",
    "Visualisez chacune des variables de `X_public` sous la forme de deux histogrammes superposés, l'un correspondant aux observations de la classe positive, l'autre correspondant aux observations de la classe négative.\n",
    "\n",
    "__Conseils :__\n",
    "* utilisez `pos_indices = np.where(y_public==1)[0]` pour déterminer les indices des lignes de `y_public` (et donc dans `X_public`) dont l'étiquette vaut 0.\n",
    "* utilisez l'argument `alpha` de `plt.hist` pour rendre vos histogrammes transparents."
   ]
  },
  {
   "cell_type": "code",
   "execution_count": 6,
   "metadata": {},
   "outputs": [
    {
     "data": {
      "image/png": "[encoded data removed]",
      "text/plain": [
       "<Figure size 1080x1800 with 10 Axes>"
      ]
     },
     "metadata": {
      "needs_background": "light"
     },
     "output_type": "display_data"
    }
   ],
   "source": [
    "fig = plt.figure(figsize=(15, 25))\n",
    "pos_indices = np.where(y_public == 1)[0]\n",
    "\n",
    "neg_indices = np.where(y_public == 0)[0]\n",
    "\n",
    "# Histograms\n",
    "for (plot_idx, feat_idx) in enumerate(df_public.columns[:-1]):\n",
    "    # create a subplot in the (plot_idx+1) position of a 2x5 grid\n",
    "    ax = fig.add_subplot(5, 2, (plot_idx+1))\n",
    "    # plot the histogram of feat_idx\n",
    "    h_1 = ax.hist(X_public[pos_indices, plot_idx], bins=30, edgecolor='none')\n",
    "    h_2 = ax.hist(X_public[neg_indices, plot_idx], bins=30, edgecolor='none', alpha=0.5)\n",
    "    # use the name of the feature as a title for each histogram\n",
    "    ax.set_title(feat_idx)\n",
    "# espacement entre les subplots\n",
    "fig.tight_layout(pad=1.0)"
   ]
  },
  {
   "cell_type": "markdown",
   "metadata": {},
   "source": [
    "#### Question 2\n",
    "Pensez-vous qu'il va être aisé de distinguer les deux classes ?"
   ]
  },
  {
   "cell_type": "markdown",
   "metadata": {},
   "source": [
    "Quelques paramètres ont des tendances différentes, notamment l'altitude et l'exposition qui peuevent permettre de faire la différence entre les deux espèces. Cependant les écarts ne sont pas assez flagrants pour permettre de distinguer clairement l'appartenance d'un arbe à une espèce."
   ]
  },
  {
   "cell_type": "markdown",
   "metadata": {},
   "source": [
    "### Pré-traitement des variables"
   ]
  },
  {
   "cell_type": "markdown",
   "metadata": {},
   "source": [
    "#### Question 3\n",
    "Transformez vos variables d'une manière qui vous parait judicieuse, en vous appuyant notamment sur la PC 3. Vous pouvez essayer différents pré-traitements, mais ce n'est pas nécessaire. Justifiez vos choix. Utilisez un array numpy `X_public_preprocessed` pour enregistrer le résultat."
   ]
  },
  {
   "cell_type": "code",
   "execution_count": 7,
   "metadata": {},
   "outputs": [],
   "source": [
    "from sklearn import preprocessing"
   ]
  },
  {
   "cell_type": "code",
   "execution_count": 8,
   "metadata": {},
   "outputs": [
    {
     "data": {
      "text/plain": [
       "StandardScaler(copy=True, with_mean=True, with_std=True)"
      ]
     },
     "execution_count": 8,
     "metadata": {},
     "output_type": "execute_result"
    }
   ],
   "source": [
    "standard_scaler = preprocessing.StandardScaler()\n",
    "standard_scaler.fit(X_public)"
   ]
  },
  {
   "cell_type": "code",
   "execution_count": 9,
   "metadata": {},
   "outputs": [],
   "source": [
    "X_public_processed = standard_scaler.transform(X_public)"
   ]
  },
  {
   "cell_type": "code",
   "execution_count": 10,
   "metadata": {},
   "outputs": [
    {
     "data": {
      "image/png": "[encoded data removed]",
      "text/plain": [
       "<Figure size 1080x1800 with 10 Axes>"
      ]
     },
     "metadata": {
      "needs_background": "light"
     },
     "output_type": "display_data"
    }
   ],
   "source": [
    "fig = plt.figure(figsize=(15, 25))\n",
    "pos_indices = np.where(y_public == 1)[0]\n",
    "\n",
    "neg_indices = np.where(y_public == 0)[0]\n",
    "\n",
    "# Histograms\n",
    "for (plot_idx, feat_idx) in enumerate(df_public.columns[:-1]):\n",
    "    # create a subplot in the (plot_idx+1) position of a 2x5 grid\n",
    "    ax = fig.add_subplot(5, 2, (plot_idx+1))\n",
    "    # plot the histogram of feat_idx\n",
    "    h_1 = ax.hist(X_public_processed[pos_indices, plot_idx], bins=30, edgecolor='none')\n",
    "    h_2 = ax.hist(X_public_processed[neg_indices, plot_idx], bins=30, edgecolor='none', alpha=0.5)\n",
    "    # use the name of the feature as a title for each histogram\n",
    "    ax.set_title(feat_idx)\n",
    "# espacement entre les subplots\n",
    "fig.tight_layout(pad=1.0)"
   ]
  },
  {
   "cell_type": "markdown",
   "metadata": {},
   "source": [
    "##### Minmax"
   ]
  },
  {
   "cell_type": "code",
   "execution_count": 11,
   "metadata": {},
   "outputs": [
    {
     "data": {
      "text/plain": [
       "MinMaxScaler(copy=True, feature_range=(0, 1))"
      ]
     },
     "execution_count": 11,
     "metadata": {},
     "output_type": "execute_result"
    }
   ],
   "source": [
    "minmax_scaler = preprocessing.MinMaxScaler()\n",
    "minmax_scaler.fit(X_public)"
   ]
  },
  {
   "cell_type": "code",
   "execution_count": 12,
   "metadata": {},
   "outputs": [],
   "source": [
    "X_public_processed_minmax = standard_scaler.transform(X_public)"
   ]
  },
  {
   "cell_type": "code",
   "execution_count": 13,
   "metadata": {},
   "outputs": [
    {
     "data": {
      "image/png": "[encoded data removed]",
      "text/plain": [
       "<Figure size 1080x1800 with 10 Axes>"
      ]
     },
     "metadata": {
      "needs_background": "light"
     },
     "output_type": "display_data"
    }
   ],
   "source": [
    "fig = plt.figure(figsize=(15, 25))\n",
    "pos_indices = np.where(y_public == 1)[0]\n",
    "\n",
    "neg_indices = np.where(y_public == 0)[0]\n",
    "\n",
    "# Histograms\n",
    "for (plot_idx, feat_idx) in enumerate(df_public.columns[:-1]):\n",
    "    # create a subplot in the (plot_idx+1) position of a 2x5 grid\n",
    "    ax = fig.add_subplot(5, 2, (plot_idx+1))\n",
    "    # plot the histogram of feat_idx\n",
    "    h_1 = ax.hist(X_public_processed_minmax[pos_indices, plot_idx], bins=30, edgecolor='none')\n",
    "    h_2 = ax.hist(X_public_processed_minmax[neg_indices, plot_idx], bins=30, edgecolor='none', alpha=0.5)\n",
    "    # use the name of the feature as a title for each histogram\n",
    "    ax.set_title(feat_idx)\n",
    "# espacement entre les subplots\n",
    "fig.tight_layout(pad=1.0)"
   ]
  },
  {
   "cell_type": "markdown",
   "metadata": {},
   "source": [
    "Justification : Premier modèle de test, Mise à la même échelle, transformation linéaire"
   ]
  },
  {
   "cell_type": "markdown",
   "metadata": {},
   "source": [
    "## Premier modèle : 5-NN"
   ]
  },
  {
   "cell_type": "markdown",
   "metadata": {},
   "source": [
    "### Algorithme des k plus proches voisins"
   ]
  },
  {
   "cell_type": "markdown",
   "metadata": {},
   "source": [
    "Nous n'avons pas encore vu d'algorithme permettant d'entraîner un modèle de classification. Nous allons donc commencer avec un modèle simple : celui des __k plus proches voisins__ (ou __kNN__, pour _k nearest neighbors_).\n",
    "\n",
    "Dans ce modèle, la valeur de la fonction de décision en x est la proportion d'individus d'étiquette positive parmi les k plus proches voisins de x au sein des points du jeu d'entraînement ; k est fixé."
   ]
  },
  {
   "cell_type": "markdown",
   "metadata": {},
   "source": [
    "Nous allons commencer par utiliser un algorithme des k plus proches voisins avec k fixé à k=5."
   ]
  },
  {
   "cell_type": "markdown",
   "metadata": {},
   "source": [
    "#### Question 4\n",
    "\n",
    "Entraînez un modèle des sur les données `(X_public_preprocessed, y_public)` grâce à la classe `KNeighborsClassifier` du module `neighbors` de `sklearn`, utilisez l'algorithme des 5 plus proches voisins pour entrainer un modèle sur votre jeu d'entraînement.\n",
    "\n",
    "Documentation https://scikit-learn.org/stable/modules/generated/sklearn.neighbors.KNeighborsClassifier.html"
   ]
  },
  {
   "cell_type": "code",
   "execution_count": 14,
   "metadata": {},
   "outputs": [],
   "source": [
    "from sklearn import neighbors"
   ]
  },
  {
   "cell_type": "code",
   "execution_count": 15,
   "metadata": {},
   "outputs": [
    {
     "data": {
      "text/plain": [
       "KNeighborsClassifier(algorithm='auto', leaf_size=30, metric='minkowski',\n",
       "                     metric_params=None, n_jobs=None, n_neighbors=5, p=2,\n",
       "                     weights='uniform')"
      ]
     },
     "execution_count": 15,
     "metadata": {},
     "output_type": "execute_result"
    }
   ],
   "source": [
    "neigh = neighbors.KNeighborsClassifier(n_neighbors=5)\n",
    "neigh.fit(X_public_processed, y_public)"
   ]
  },
  {
   "cell_type": "code",
   "execution_count": 16,
   "metadata": {},
   "outputs": [],
   "source": [
    "pred_public = neigh.predict(X_public_processed)"
   ]
  },
  {
   "cell_type": "code",
   "execution_count": 17,
   "metadata": {},
   "outputs": [
    {
     "name": "stdout",
     "output_type": "stream",
     "text": [
      "3381\n"
     ]
    }
   ],
   "source": [
    "print(pred_public.sum())"
   ]
  },
  {
   "cell_type": "markdown",
   "metadata": {},
   "source": [
    "### Performance\n",
    "\n",
    "Il existe de nombreuses métriques pour évaluer les performances d'un algorithme de classification. Nous allons ici utiliser le F-score, dont vous trouverez une description dans la documentation du module `metrics` de `sklearn` : https://scikit-learn.org/stable/modules/generated/sklearn.metrics.f1_score.html#sklearn.metrics.f1_score et https://scikit-learn.org/stable/modules/model_evaluation.html#precision-recall-f-measure-metrics.\n",
    "\n",
    "#### Question 5\n",
    "Quel serait sur nos données le F-score d'un modèle naïf prédisant systématiquement la classe positive ?"
   ]
  },
  {
   "cell_type": "code",
   "execution_count": 18,
   "metadata": {},
   "outputs": [],
   "source": [
    "from sklearn import metrics"
   ]
  },
  {
   "cell_type": "code",
   "execution_count": 19,
   "metadata": {},
   "outputs": [
    {
     "name": "stdout",
     "output_type": "stream",
     "text": [
      "0.6666666666666666\n"
     ]
    }
   ],
   "source": [
    "f1_naif = metrics.f1_score(y_public,np.ones(len(y_public)))\n",
    "print(f1_naif)"
   ]
  },
  {
   "cell_type": "markdown",
   "metadata": {},
   "source": [
    "#### Question 6\n",
    "\n",
    "Quelle est le F-score du modèle de 5 plus proches voisins que vous venez d'entraîner, sur les données `(X_public_preprocessed, y_public)` ?"
   ]
  },
  {
   "cell_type": "code",
   "execution_count": 20,
   "metadata": {},
   "outputs": [
    {
     "name": "stdout",
     "output_type": "stream",
     "text": [
      "0.9290079924776682\n"
     ]
    }
   ],
   "source": [
    "f1 = metrics.f1_score(y_public,pred_public)\n",
    "print(f1)"
   ]
  },
  {
   "cell_type": "markdown",
   "metadata": {},
   "source": [
    "#### Question 7\n",
    "* Que pensez-vous de cette performance ? \n",
    "* Est-ce une bonne idée d'évaluer le modèle sur le jeu d'entraînement ? (Réfléchissez en particulier au cas où k=1.)"
   ]
  },
  {
   "cell_type": "markdown",
   "metadata": {},
   "source": [
    "On obtient de bon résultat pour la méthode des plus proches voisins.\n",
    "Ce n'est pas une bonne idée d'évaluer le modèle sur le jeu d'entraînement "
   ]
  },
  {
   "cell_type": "markdown",
   "metadata": {},
   "source": [
    "## Création d'un jeu de test\n",
    "\n",
    "À partir de maintenant, nous allons séparer les données en un jeu d'entraînement, que nous utiliserons pour entraîner différents modèles, et un jeu de test, que nous utiliserons pour les comparer. (Cf CM 8)."
   ]
  },
  {
   "cell_type": "code",
   "execution_count": 21,
   "metadata": {},
   "outputs": [],
   "source": [
    "from sklearn import model_selection"
   ]
  },
  {
   "cell_type": "code",
   "execution_count": 22,
   "metadata": {},
   "outputs": [
    {
     "data": {
      "text/plain": [
       "((4800, 10), (1200, 10))"
      ]
     },
     "execution_count": 22,
     "metadata": {},
     "output_type": "execute_result"
    }
   ],
   "source": [
    "# Use 20% for testing\n",
    "X_train, X_test, y_train, y_test = model_selection.train_test_split(X_public, y_public, test_size=0.20,\n",
    "                                                                    stratify=y_public,\n",
    "                                                                    random_state=42) \n",
    "X_train.shape, X_test.shape"
   ]
  },
  {
   "cell_type": "markdown",
   "metadata": {},
   "source": [
    "### Performance sur le jeu de test d'un 5-NN entraîné sur le jeu d'entrainement"
   ]
  },
  {
   "cell_type": "markdown",
   "metadata": {},
   "source": [
    "#### Question 8.a \n",
    "\n",
    "Entrainez de nouveau un modèle avec l'algorithme des 5 plus proches voisins, mais cette fois, utilisez uniquement le jeu d'entraînement. __Attention__ à bien « entraîner » votre pre-processing sur le jeu d'entraînement seulement ; considérez le jeu de test comme des données que vous ne voyez pas au moment de l'entraînement."
   ]
  },
  {
   "cell_type": "code",
   "execution_count": 23,
   "metadata": {},
   "outputs": [
    {
     "data": {
      "text/plain": [
       "StandardScaler(copy=True, with_mean=True, with_std=True)"
      ]
     },
     "execution_count": 23,
     "metadata": {},
     "output_type": "execute_result"
    }
   ],
   "source": [
    "standard_scaler = preprocessing.StandardScaler()\n",
    "standard_scaler.fit(X_train)"
   ]
  },
  {
   "cell_type": "code",
   "execution_count": 24,
   "metadata": {},
   "outputs": [],
   "source": [
    "X_train_processed = standard_scaler.transform(X_train)\n",
    "X_test_processed = standard_scaler.transform(X_test)"
   ]
  },
  {
   "cell_type": "code",
   "execution_count": 25,
   "metadata": {},
   "outputs": [
    {
     "data": {
      "text/plain": [
       "KNeighborsClassifier(algorithm='auto', leaf_size=30, metric='minkowski',\n",
       "                     metric_params=None, n_jobs=None, n_neighbors=5, p=2,\n",
       "                     weights='uniform')"
      ]
     },
     "execution_count": 25,
     "metadata": {},
     "output_type": "execute_result"
    }
   ],
   "source": [
    "neigh = neighbors.KNeighborsClassifier(n_neighbors=5)\n",
    "neigh.fit(X_train_processed, y_train)"
   ]
  },
  {
   "cell_type": "code",
   "execution_count": 26,
   "metadata": {},
   "outputs": [],
   "source": [
    "y_preprocessed = neigh.predict(X_test_processed)"
   ]
  },
  {
   "cell_type": "markdown",
   "metadata": {},
   "source": [
    "On construit les données transformées avec MinMaxScaler"
   ]
  },
  {
   "cell_type": "code",
   "execution_count": 27,
   "metadata": {},
   "outputs": [
    {
     "data": {
      "text/plain": [
       "MinMaxScaler(copy=True, feature_range=(0, 1))"
      ]
     },
     "execution_count": 27,
     "metadata": {},
     "output_type": "execute_result"
    }
   ],
   "source": [
    "minmax_scaler = preprocessing.MinMaxScaler()\n",
    "minmax_scaler.fit(X_train)"
   ]
  },
  {
   "cell_type": "code",
   "execution_count": 28,
   "metadata": {},
   "outputs": [],
   "source": [
    "X_train_processed_minmax = minmax_scaler.transform(X_train)\n",
    "X_test_processed_minmax = minmax_scaler.transform(X_test)"
   ]
  },
  {
   "cell_type": "markdown",
   "metadata": {},
   "source": [
    "#### Question 8.b\n",
    "Évaluez le F-score sur le jeu de test du modèle entraîné à la question précédente."
   ]
  },
  {
   "cell_type": "code",
   "execution_count": 29,
   "metadata": {},
   "outputs": [
    {
     "name": "stdout",
     "output_type": "stream",
     "text": [
      "0.8956587966488957\n"
     ]
    }
   ],
   "source": [
    "f1_neigh = metrics.f1_score(y_test,y_preprocessed)\n",
    "print(f1_neigh)"
   ]
  },
  {
   "cell_type": "markdown",
   "metadata": {},
   "source": [
    "#### Question 9\n",
    "Commentez le F-score obtenu ci-dessus."
   ]
  },
  {
   "cell_type": "markdown",
   "metadata": {},
   "source": [
    "On obtient un résultat correct avec la méthode des plus proches voisins."
   ]
  },
  {
   "cell_type": "markdown",
   "metadata": {},
   "source": [
    "## [À partir du CM 8 / de la PC 4] Sélection du nombre de plus proches voisins"
   ]
  },
  {
   "cell_type": "markdown",
   "metadata": {},
   "source": [
    "#### Question 10.a \n",
    "Utilisez maintenant une validation croisée pour sélectionner la valeur optimale du nombre de voisins avec `GridSearchCV` (voir notamment PC4). \n",
    "\n",
    "Vous pouvez utiliser la grille de valeurs de k suivante, ou la modifier :"
   ]
  },
  {
   "cell_type": "code",
   "execution_count": 30,
   "metadata": {},
   "outputs": [],
   "source": [
    "from sklearn.model_selection import GridSearchCV"
   ]
  },
  {
   "cell_type": "code",
   "execution_count": 31,
   "metadata": {},
   "outputs": [],
   "source": [
    "k_values = np.arange(3, 32, step=2)"
   ]
  },
  {
   "cell_type": "code",
   "execution_count": 32,
   "metadata": {},
   "outputs": [
    {
     "name": "stdout",
     "output_type": "stream",
     "text": [
      "Fitting 5 folds for each of 15 candidates, totalling 75 fits\n",
      "[CV] n_neighbors=3 ...................................................\n",
      "[CV] ....................... n_neighbors=3, score=0.890, total=   0.0s\n",
      "[CV] n_neighbors=3 ...................................................\n",
      "[CV] ....................... n_neighbors=3, score=0.894, total=   0.0s\n",
      "[CV] n_neighbors=3 ...................................................\n",
      "[CV] ....................... n_neighbors=3, score=0.880, total=   0.0s\n",
      "[CV] n_neighbors=3 ...................................................\n",
      "[CV] ....................... n_neighbors=3, score=0.872, total=   0.1s\n",
      "[CV] n_neighbors=3 ...................................................\n"
     ]
    },
    {
     "name": "stderr",
     "output_type": "stream",
     "text": [
      "[Parallel(n_jobs=1)]: Using backend SequentialBackend with 1 concurrent workers.\n",
      "[Parallel(n_jobs=1)]: Done   1 out of   1 | elapsed:    0.0s remaining:    0.0s\n",
      "[Parallel(n_jobs=1)]: Done   2 out of   2 | elapsed:    0.0s remaining:    0.0s\n"
     ]
    },
    {
     "name": "stdout",
     "output_type": "stream",
     "text": [
      "[CV] ....................... n_neighbors=3, score=0.903, total=   0.0s\n",
      "[CV] n_neighbors=5 ...................................................\n",
      "[CV] ....................... n_neighbors=5, score=0.884, total=   0.1s\n",
      "[CV] n_neighbors=5 ...................................................\n",
      "[CV] ....................... n_neighbors=5, score=0.883, total=   0.0s\n",
      "[CV] n_neighbors=5 ...................................................\n",
      "[CV] ....................... n_neighbors=5, score=0.876, total=   0.0s\n",
      "[CV] n_neighbors=5 ...................................................\n",
      "[CV] ....................... n_neighbors=5, score=0.857, total=   0.1s\n",
      "[CV] n_neighbors=5 ...................................................\n",
      "[CV] ....................... n_neighbors=5, score=0.885, total=   0.0s\n",
      "[CV] n_neighbors=7 ...................................................\n",
      "[CV] ....................... n_neighbors=7, score=0.879, total=   0.0s\n",
      "[CV] n_neighbors=7 ...................................................\n",
      "[CV] ....................... n_neighbors=7, score=0.876, total=   0.1s\n",
      "[CV] n_neighbors=7 ...................................................\n",
      "[CV] ....................... n_neighbors=7, score=0.868, total=   0.0s\n",
      "[CV] n_neighbors=7 ...................................................\n",
      "[CV] ....................... n_neighbors=7, score=0.843, total=   0.1s\n",
      "[CV] n_neighbors=7 ...................................................\n",
      "[CV] ....................... n_neighbors=7, score=0.881, total=   0.0s\n",
      "[CV] n_neighbors=9 ...................................................\n",
      "[CV] ....................... n_neighbors=9, score=0.868, total=   0.1s\n",
      "[CV] n_neighbors=9 ...................................................\n",
      "[CV] ....................... n_neighbors=9, score=0.866, total=   0.0s\n",
      "[CV] n_neighbors=9 ...................................................\n",
      "[CV] ....................... n_neighbors=9, score=0.857, total=   0.1s\n",
      "[CV] n_neighbors=9 ...................................................\n",
      "[CV] ....................... n_neighbors=9, score=0.844, total=   0.0s\n",
      "[CV] n_neighbors=9 ...................................................\n",
      "[CV] ....................... n_neighbors=9, score=0.865, total=   0.1s\n",
      "[CV] n_neighbors=11 ..................................................\n",
      "[CV] ...................... n_neighbors=11, score=0.857, total=   0.0s\n",
      "[CV] n_neighbors=11 ..................................................\n",
      "[CV] ...................... n_neighbors=11, score=0.863, total=   0.1s\n",
      "[CV] n_neighbors=11 ..................................................\n",
      "[CV] ...................... n_neighbors=11, score=0.854, total=   0.1s\n",
      "[CV] n_neighbors=11 ..................................................\n",
      "[CV] ...................... n_neighbors=11, score=0.843, total=   0.1s\n",
      "[CV] n_neighbors=11 ..................................................\n",
      "[CV] ...................... n_neighbors=11, score=0.866, total=   0.1s\n",
      "[CV] n_neighbors=13 ..................................................\n",
      "[CV] ...................... n_neighbors=13, score=0.857, total=   0.1s\n",
      "[CV] n_neighbors=13 ..................................................\n",
      "[CV] ...................... n_neighbors=13, score=0.865, total=   0.1s\n",
      "[CV] n_neighbors=13 ..................................................\n",
      "[CV] ...................... n_neighbors=13, score=0.853, total=   0.0s\n",
      "[CV] n_neighbors=13 ..................................................\n",
      "[CV] ...................... n_neighbors=13, score=0.838, total=   0.1s\n",
      "[CV] n_neighbors=13 ..................................................\n",
      "[CV] ...................... n_neighbors=13, score=0.869, total=   0.0s\n",
      "[CV] n_neighbors=15 ..................................................\n",
      "[CV] ...................... n_neighbors=15, score=0.855, total=   0.1s\n",
      "[CV] n_neighbors=15 ..................................................\n",
      "[CV] ...................... n_neighbors=15, score=0.855, total=   0.1s\n",
      "[CV] n_neighbors=15 ..................................................\n",
      "[CV] ...................... n_neighbors=15, score=0.854, total=   0.1s\n",
      "[CV] n_neighbors=15 ..................................................\n",
      "[CV] ...................... n_neighbors=15, score=0.831, total=   0.1s\n",
      "[CV] n_neighbors=15 ..................................................\n",
      "[CV] ...................... n_neighbors=15, score=0.865, total=   0.1s\n",
      "[CV] n_neighbors=17 ..................................................\n",
      "[CV] ...................... n_neighbors=17, score=0.850, total=   0.1s\n",
      "[CV] n_neighbors=17 ..................................................\n",
      "[CV] ...................... n_neighbors=17, score=0.855, total=   0.1s\n",
      "[CV] n_neighbors=17 ..................................................\n",
      "[CV] ...................... n_neighbors=17, score=0.848, total=   0.1s\n",
      "[CV] n_neighbors=17 ..................................................\n",
      "[CV] ...................... n_neighbors=17, score=0.828, total=   0.1s\n",
      "[CV] n_neighbors=17 ..................................................\n",
      "[CV] ...................... n_neighbors=17, score=0.858, total=   0.1s\n",
      "[CV] n_neighbors=19 ..................................................\n",
      "[CV] ...................... n_neighbors=19, score=0.845, total=   0.1s\n",
      "[CV] n_neighbors=19 ..................................................\n",
      "[CV] ...................... n_neighbors=19, score=0.848, total=   0.1s\n",
      "[CV] n_neighbors=19 ..................................................\n",
      "[CV] ...................... n_neighbors=19, score=0.850, total=   0.1s\n",
      "[CV] n_neighbors=19 ..................................................\n",
      "[CV] ...................... n_neighbors=19, score=0.824, total=   0.1s\n",
      "[CV] n_neighbors=19 ..................................................\n",
      "[CV] ...................... n_neighbors=19, score=0.858, total=   0.1s\n",
      "[CV] n_neighbors=21 ..................................................\n",
      "[CV] ...................... n_neighbors=21, score=0.841, total=   0.1s\n",
      "[CV] n_neighbors=21 ..................................................\n",
      "[CV] ...................... n_neighbors=21, score=0.845, total=   0.1s\n",
      "[CV] n_neighbors=21 ..................................................\n",
      "[CV] ...................... n_neighbors=21, score=0.844, total=   0.1s\n",
      "[CV] n_neighbors=21 ..................................................\n",
      "[CV] ...................... n_neighbors=21, score=0.823, total=   0.1s\n",
      "[CV] n_neighbors=21 ..................................................\n",
      "[CV] ...................... n_neighbors=21, score=0.863, total=   0.1s\n",
      "[CV] n_neighbors=23 ..................................................\n",
      "[CV] ...................... n_neighbors=23, score=0.846, total=   0.1s\n",
      "[CV] n_neighbors=23 ..................................................\n",
      "[CV] ...................... n_neighbors=23, score=0.841, total=   0.1s\n",
      "[CV] n_neighbors=23 ..................................................\n",
      "[CV] ...................... n_neighbors=23, score=0.842, total=   0.1s\n",
      "[CV] n_neighbors=23 ..................................................\n",
      "[CV] ...................... n_neighbors=23, score=0.816, total=   0.1s\n",
      "[CV] n_neighbors=23 ..................................................\n",
      "[CV] ...................... n_neighbors=23, score=0.859, total=   0.1s\n",
      "[CV] n_neighbors=25 ..................................................\n",
      "[CV] ...................... n_neighbors=25, score=0.842, total=   0.1s\n",
      "[CV] n_neighbors=25 ..................................................\n",
      "[CV] ...................... n_neighbors=25, score=0.836, total=   0.1s\n",
      "[CV] n_neighbors=25 ..................................................\n",
      "[CV] ...................... n_neighbors=25, score=0.840, total=   0.1s\n",
      "[CV] n_neighbors=25 ..................................................\n",
      "[CV] ...................... n_neighbors=25, score=0.818, total=   0.1s\n",
      "[CV] n_neighbors=25 ..................................................\n",
      "[CV] ...................... n_neighbors=25, score=0.855, total=   0.1s\n",
      "[CV] n_neighbors=27 ..................................................\n",
      "[CV] ...................... n_neighbors=27, score=0.839, total=   0.1s\n",
      "[CV] n_neighbors=27 ..................................................\n",
      "[CV] ...................... n_neighbors=27, score=0.835, total=   0.1s\n",
      "[CV] n_neighbors=27 ..................................................\n",
      "[CV] ...................... n_neighbors=27, score=0.836, total=   0.1s\n",
      "[CV] n_neighbors=27 ..................................................\n",
      "[CV] ...................... n_neighbors=27, score=0.816, total=   0.1s\n",
      "[CV] n_neighbors=27 ..................................................\n",
      "[CV] ...................... n_neighbors=27, score=0.854, total=   0.1s\n",
      "[CV] n_neighbors=29 ..................................................\n"
     ]
    },
    {
     "name": "stdout",
     "output_type": "stream",
     "text": [
      "[CV] ...................... n_neighbors=29, score=0.835, total=   0.1s\n",
      "[CV] n_neighbors=29 ..................................................\n",
      "[CV] ...................... n_neighbors=29, score=0.839, total=   0.1s\n",
      "[CV] n_neighbors=29 ..................................................\n",
      "[CV] ...................... n_neighbors=29, score=0.836, total=   0.1s\n",
      "[CV] n_neighbors=29 ..................................................\n",
      "[CV] ...................... n_neighbors=29, score=0.818, total=   0.1s\n",
      "[CV] n_neighbors=29 ..................................................\n",
      "[CV] ...................... n_neighbors=29, score=0.856, total=   0.1s\n",
      "[CV] n_neighbors=31 ..................................................\n",
      "[CV] ...................... n_neighbors=31, score=0.841, total=   0.1s\n",
      "[CV] n_neighbors=31 ..................................................\n",
      "[CV] ...................... n_neighbors=31, score=0.833, total=   0.1s\n",
      "[CV] n_neighbors=31 ..................................................\n",
      "[CV] ...................... n_neighbors=31, score=0.830, total=   0.1s\n",
      "[CV] n_neighbors=31 ..................................................\n",
      "[CV] ...................... n_neighbors=31, score=0.812, total=   0.1s\n",
      "[CV] n_neighbors=31 ..................................................\n",
      "[CV] ...................... n_neighbors=31, score=0.859, total=   0.1s\n"
     ]
    },
    {
     "name": "stderr",
     "output_type": "stream",
     "text": [
      "[Parallel(n_jobs=1)]: Done  75 out of  75 | elapsed:    4.3s finished\n"
     ]
    }
   ],
   "source": [
    "# define model\n",
    "neigh = neighbors.KNeighborsClassifier()\n",
    "\n",
    "# define gridsearch\n",
    "tuned_parameters = [{'n_neighbors': k_values}]\n",
    "nb_folds = 5\n",
    "grid = GridSearchCV(neigh, tuned_parameters, cv=nb_folds, refit=False, verbose=3)\n",
    "\n",
    "# run gridsearch \n",
    "grid.fit(X_train_processed, y_train)\n",
    "\n",
    "# get R2 (default score with Lasso models)\n",
    "scores = grid.cv_results_['mean_test_score']\n",
    "scores_std = grid.cv_results_['std_test_score']\n",
    "\n",
    "# compute standard errors\n",
    "std_error = scores_std / np.sqrt(nb_folds)"
   ]
  },
  {
   "cell_type": "code",
   "execution_count": 33,
   "metadata": {},
   "outputs": [
    {
     "name": "stdout",
     "output_type": "stream",
     "text": [
      "optimal k: 3.0000\n",
      "best R2 (test set): 0.8877\n"
     ]
    }
   ],
   "source": [
    "# get optimal k\n",
    "i_max = np.argmax(scores)\n",
    "best_k = k_values[i_max]\n",
    "best_score = scores[i_max]\n",
    "print(\"optimal k: {0:0.4f}\".format(best_k))\n",
    "print(\"best R2 (test set): {0:0.4f}\".format(best_score))"
   ]
  },
  {
   "cell_type": "markdown",
   "metadata": {},
   "source": [
    "Le nombre optimal de voisins est 3."
   ]
  },
  {
   "cell_type": "markdown",
   "metadata": {},
   "source": [
    "#### Question 10.b\n",
    "Quel est le F-score correspondant au nombre de voisin optimal ?"
   ]
  },
  {
   "cell_type": "code",
   "execution_count": 34,
   "metadata": {},
   "outputs": [
    {
     "data": {
      "text/plain": [
       "KNeighborsClassifier(algorithm='auto', leaf_size=30, metric='minkowski',\n",
       "                     metric_params=None, n_jobs=None, n_neighbors=3, p=2,\n",
       "                     weights='uniform')"
      ]
     },
     "execution_count": 34,
     "metadata": {},
     "output_type": "execute_result"
    }
   ],
   "source": [
    "neigh = neighbors.KNeighborsClassifier(n_neighbors=3)\n",
    "neigh.fit(X_train_processed, y_train)"
   ]
  },
  {
   "cell_type": "code",
   "execution_count": 35,
   "metadata": {},
   "outputs": [],
   "source": [
    "y_preprocessed = neigh.predict(X_train_processed)"
   ]
  },
  {
   "cell_type": "code",
   "execution_count": 36,
   "metadata": {},
   "outputs": [
    {
     "name": "stdout",
     "output_type": "stream",
     "text": [
      "0.9437711106695809\n"
     ]
    }
   ],
   "source": [
    "f1_neigh_opt_train = metrics.f1_score(y_train,y_preprocessed)\n",
    "print(f1_neigh_opt_train)"
   ]
  },
  {
   "cell_type": "markdown",
   "metadata": {},
   "source": [
    "Sur le jeu de test, la performance est bonne"
   ]
  },
  {
   "cell_type": "markdown",
   "metadata": {},
   "source": [
    "#### Question 10.c\n",
    "\n",
    "Quel est le F-score, sur le jeu de test, d'un modèle obtenu en entraînant un algorithme des k plus proches voisins, avec le k que vous venez de déterminer, sur le jeu d'entraînement ? Commentez."
   ]
  },
  {
   "cell_type": "code",
   "execution_count": 37,
   "metadata": {},
   "outputs": [
    {
     "data": {
      "text/plain": [
       "KNeighborsClassifier(algorithm='auto', leaf_size=30, metric='minkowski',\n",
       "                     metric_params=None, n_jobs=None, n_neighbors=3, p=2,\n",
       "                     weights='uniform')"
      ]
     },
     "execution_count": 37,
     "metadata": {},
     "output_type": "execute_result"
    }
   ],
   "source": [
    "neigh = neighbors.KNeighborsClassifier(n_neighbors=3)\n",
    "neigh.fit(X_train_processed, y_train)"
   ]
  },
  {
   "cell_type": "code",
   "execution_count": 38,
   "metadata": {},
   "outputs": [],
   "source": [
    "y_preprocessed = neigh.predict(X_test_processed)"
   ]
  },
  {
   "cell_type": "code",
   "execution_count": 39,
   "metadata": {},
   "outputs": [
    {
     "name": "stdout",
     "output_type": "stream",
     "text": [
      "0.8979907264296755\n"
     ]
    }
   ],
   "source": [
    "f1_neigh_opt = metrics.f1_score(y_test,y_preprocessed)\n",
    "print(f1_neigh_opt)"
   ]
  },
  {
   "cell_type": "markdown",
   "metadata": {},
   "source": [
    "##### MinMax"
   ]
  },
  {
   "cell_type": "code",
   "execution_count": 40,
   "metadata": {},
   "outputs": [
    {
     "name": "stdout",
     "output_type": "stream",
     "text": [
      "Fitting 5 folds for each of 15 candidates, totalling 75 fits\n",
      "[CV] n_neighbors=3 ...................................................\n",
      "[CV] ....................... n_neighbors=3, score=0.893, total=   0.0s\n",
      "[CV] n_neighbors=3 ...................................................\n",
      "[CV] ....................... n_neighbors=3, score=0.890, total=   0.1s\n",
      "[CV] n_neighbors=3 ...................................................\n",
      "[CV] ....................... n_neighbors=3, score=0.886, total=   0.0s\n",
      "[CV] n_neighbors=3 ...................................................\n",
      "[CV] ....................... n_neighbors=3, score=0.880, total=   0.0s\n",
      "[CV] n_neighbors=3 ...................................................\n"
     ]
    },
    {
     "name": "stderr",
     "output_type": "stream",
     "text": [
      "[Parallel(n_jobs=1)]: Using backend SequentialBackend with 1 concurrent workers.\n",
      "[Parallel(n_jobs=1)]: Done   1 out of   1 | elapsed:    0.0s remaining:    0.0s\n",
      "[Parallel(n_jobs=1)]: Done   2 out of   2 | elapsed:    0.0s remaining:    0.0s\n"
     ]
    },
    {
     "name": "stdout",
     "output_type": "stream",
     "text": [
      "[CV] ....................... n_neighbors=3, score=0.903, total=   0.0s\n",
      "[CV] n_neighbors=5 ...................................................\n",
      "[CV] ....................... n_neighbors=5, score=0.879, total=   0.0s\n",
      "[CV] n_neighbors=5 ...................................................\n",
      "[CV] ....................... n_neighbors=5, score=0.873, total=   0.1s\n",
      "[CV] n_neighbors=5 ...................................................\n",
      "[CV] ....................... n_neighbors=5, score=0.881, total=   0.0s\n",
      "[CV] n_neighbors=5 ...................................................\n",
      "[CV] ....................... n_neighbors=5, score=0.864, total=   0.1s\n",
      "[CV] n_neighbors=5 ...................................................\n",
      "[CV] ....................... n_neighbors=5, score=0.898, total=   0.0s\n",
      "[CV] n_neighbors=7 ...................................................\n",
      "[CV] ....................... n_neighbors=7, score=0.868, total=   0.0s\n",
      "[CV] n_neighbors=7 ...................................................\n",
      "[CV] ....................... n_neighbors=7, score=0.865, total=   0.0s\n",
      "[CV] n_neighbors=7 ...................................................\n",
      "[CV] ....................... n_neighbors=7, score=0.877, total=   0.1s\n",
      "[CV] n_neighbors=7 ...................................................\n",
      "[CV] ....................... n_neighbors=7, score=0.844, total=   0.0s\n",
      "[CV] n_neighbors=7 ...................................................\n",
      "[CV] ....................... n_neighbors=7, score=0.885, total=   0.1s\n",
      "[CV] n_neighbors=9 ...................................................\n",
      "[CV] ....................... n_neighbors=9, score=0.864, total=   0.0s\n",
      "[CV] n_neighbors=9 ...................................................\n",
      "[CV] ....................... n_neighbors=9, score=0.854, total=   0.1s\n",
      "[CV] n_neighbors=9 ...................................................\n",
      "[CV] ....................... n_neighbors=9, score=0.868, total=   0.1s\n",
      "[CV] n_neighbors=9 ...................................................\n",
      "[CV] ....................... n_neighbors=9, score=0.842, total=   0.0s\n",
      "[CV] n_neighbors=9 ...................................................\n",
      "[CV] ....................... n_neighbors=9, score=0.879, total=   0.1s\n",
      "[CV] n_neighbors=11 ..................................................\n",
      "[CV] ...................... n_neighbors=11, score=0.859, total=   0.0s\n",
      "[CV] n_neighbors=11 ..................................................\n",
      "[CV] ...................... n_neighbors=11, score=0.854, total=   0.1s\n",
      "[CV] n_neighbors=11 ..................................................\n",
      "[CV] ...................... n_neighbors=11, score=0.859, total=   0.1s\n",
      "[CV] n_neighbors=11 ..................................................\n",
      "[CV] ...................... n_neighbors=11, score=0.840, total=   0.1s\n",
      "[CV] n_neighbors=11 ..................................................\n",
      "[CV] ...................... n_neighbors=11, score=0.871, total=   0.0s\n",
      "[CV] n_neighbors=13 ..................................................\n",
      "[CV] ...................... n_neighbors=13, score=0.858, total=   0.1s\n",
      "[CV] n_neighbors=13 ..................................................\n",
      "[CV] ...................... n_neighbors=13, score=0.847, total=   0.1s\n",
      "[CV] n_neighbors=13 ..................................................\n",
      "[CV] ...................... n_neighbors=13, score=0.854, total=   0.0s\n",
      "[CV] n_neighbors=13 ..................................................\n",
      "[CV] ...................... n_neighbors=13, score=0.843, total=   0.1s\n",
      "[CV] n_neighbors=13 ..................................................\n",
      "[CV] ...................... n_neighbors=13, score=0.868, total=   0.1s\n",
      "[CV] n_neighbors=15 ..................................................\n",
      "[CV] ...................... n_neighbors=15, score=0.850, total=   0.0s\n",
      "[CV] n_neighbors=15 ..................................................\n",
      "[CV] ...................... n_neighbors=15, score=0.846, total=   0.1s\n",
      "[CV] n_neighbors=15 ..................................................\n",
      "[CV] ...................... n_neighbors=15, score=0.851, total=   0.1s\n",
      "[CV] n_neighbors=15 ..................................................\n",
      "[CV] ...................... n_neighbors=15, score=0.835, total=   0.0s\n",
      "[CV] n_neighbors=15 ..................................................\n",
      "[CV] ...................... n_neighbors=15, score=0.869, total=   0.1s\n",
      "[CV] n_neighbors=17 ..................................................\n",
      "[CV] ...................... n_neighbors=17, score=0.853, total=   0.1s\n",
      "[CV] n_neighbors=17 ..................................................\n",
      "[CV] ...................... n_neighbors=17, score=0.845, total=   0.1s\n",
      "[CV] n_neighbors=17 ..................................................\n",
      "[CV] ...................... n_neighbors=17, score=0.845, total=   0.1s\n",
      "[CV] n_neighbors=17 ..................................................\n",
      "[CV] ...................... n_neighbors=17, score=0.834, total=   0.1s\n",
      "[CV] n_neighbors=17 ..................................................\n",
      "[CV] ...................... n_neighbors=17, score=0.867, total=   0.1s\n",
      "[CV] n_neighbors=19 ..................................................\n",
      "[CV] ...................... n_neighbors=19, score=0.851, total=   0.0s\n",
      "[CV] n_neighbors=19 ..................................................\n",
      "[CV] ...................... n_neighbors=19, score=0.838, total=   0.1s\n",
      "[CV] n_neighbors=19 ..................................................\n",
      "[CV] ...................... n_neighbors=19, score=0.842, total=   0.0s\n",
      "[CV] n_neighbors=19 ..................................................\n",
      "[CV] ...................... n_neighbors=19, score=0.828, total=   0.1s\n",
      "[CV] n_neighbors=19 ..................................................\n",
      "[CV] ...................... n_neighbors=19, score=0.861, total=   0.0s\n",
      "[CV] n_neighbors=21 ..................................................\n",
      "[CV] ...................... n_neighbors=21, score=0.848, total=   0.1s\n",
      "[CV] n_neighbors=21 ..................................................\n",
      "[CV] ...................... n_neighbors=21, score=0.836, total=   0.1s\n",
      "[CV] n_neighbors=21 ..................................................\n",
      "[CV] ...................... n_neighbors=21, score=0.841, total=   0.1s\n",
      "[CV] n_neighbors=21 ..................................................\n",
      "[CV] ...................... n_neighbors=21, score=0.826, total=   0.1s\n",
      "[CV] n_neighbors=21 ..................................................\n",
      "[CV] ...................... n_neighbors=21, score=0.852, total=   0.1s\n",
      "[CV] n_neighbors=23 ..................................................\n",
      "[CV] ...................... n_neighbors=23, score=0.843, total=   0.1s\n",
      "[CV] n_neighbors=23 ..................................................\n",
      "[CV] ...................... n_neighbors=23, score=0.834, total=   0.1s\n",
      "[CV] n_neighbors=23 ..................................................\n",
      "[CV] ...................... n_neighbors=23, score=0.840, total=   0.1s\n",
      "[CV] n_neighbors=23 ..................................................\n",
      "[CV] ...................... n_neighbors=23, score=0.824, total=   0.1s\n",
      "[CV] n_neighbors=23 ..................................................\n",
      "[CV] ...................... n_neighbors=23, score=0.848, total=   0.1s\n",
      "[CV] n_neighbors=25 ..................................................\n",
      "[CV] ...................... n_neighbors=25, score=0.840, total=   0.1s\n",
      "[CV] n_neighbors=25 ..................................................\n",
      "[CV] ...................... n_neighbors=25, score=0.833, total=   0.0s\n",
      "[CV] n_neighbors=25 ..................................................\n",
      "[CV] ...................... n_neighbors=25, score=0.841, total=   0.1s\n",
      "[CV] n_neighbors=25 ..................................................\n",
      "[CV] ...................... n_neighbors=25, score=0.830, total=   0.1s\n",
      "[CV] n_neighbors=25 ..................................................\n",
      "[CV] ...................... n_neighbors=25, score=0.854, total=   0.0s\n",
      "[CV] n_neighbors=27 ..................................................\n",
      "[CV] ...................... n_neighbors=27, score=0.836, total=   0.1s\n",
      "[CV] n_neighbors=27 ..................................................\n",
      "[CV] ...................... n_neighbors=27, score=0.830, total=   0.1s\n",
      "[CV] n_neighbors=27 ..................................................\n",
      "[CV] ...................... n_neighbors=27, score=0.834, total=   0.1s\n",
      "[CV] n_neighbors=27 ..................................................\n"
     ]
    },
    {
     "name": "stdout",
     "output_type": "stream",
     "text": [
      "[CV] ...................... n_neighbors=27, score=0.828, total=   0.1s\n",
      "[CV] n_neighbors=27 ..................................................\n",
      "[CV] ...................... n_neighbors=27, score=0.851, total=   0.1s\n",
      "[CV] n_neighbors=29 ..................................................\n",
      "[CV] ...................... n_neighbors=29, score=0.833, total=   0.1s\n",
      "[CV] n_neighbors=29 ..................................................\n",
      "[CV] ...................... n_neighbors=29, score=0.826, total=   0.1s\n",
      "[CV] n_neighbors=29 ..................................................\n",
      "[CV] ...................... n_neighbors=29, score=0.835, total=   0.1s\n",
      "[CV] n_neighbors=29 ..................................................\n",
      "[CV] ...................... n_neighbors=29, score=0.829, total=   0.1s\n",
      "[CV] n_neighbors=29 ..................................................\n",
      "[CV] ...................... n_neighbors=29, score=0.847, total=   0.1s\n",
      "[CV] n_neighbors=31 ..................................................\n",
      "[CV] ...................... n_neighbors=31, score=0.834, total=   0.1s\n",
      "[CV] n_neighbors=31 ..................................................\n",
      "[CV] ...................... n_neighbors=31, score=0.822, total=   0.1s\n",
      "[CV] n_neighbors=31 ..................................................\n",
      "[CV] ...................... n_neighbors=31, score=0.829, total=   0.1s\n",
      "[CV] n_neighbors=31 ..................................................\n",
      "[CV] ...................... n_neighbors=31, score=0.820, total=   0.1s\n",
      "[CV] n_neighbors=31 ..................................................\n",
      "[CV] ...................... n_neighbors=31, score=0.844, total=   0.1s\n"
     ]
    },
    {
     "name": "stderr",
     "output_type": "stream",
     "text": [
      "[Parallel(n_jobs=1)]: Done  75 out of  75 | elapsed:    4.1s finished\n"
     ]
    }
   ],
   "source": [
    "neigh = neighbors.KNeighborsClassifier()\n",
    "\n",
    "# define gridsearch\n",
    "tuned_parameters = [{'n_neighbors': k_values}]\n",
    "nb_folds = 5\n",
    "grid = GridSearchCV(neigh, tuned_parameters, cv=nb_folds, refit=False, verbose=3)\n",
    "\n",
    "# run gridsearch \n",
    "grid.fit(X_train_processed_minmax, y_train)\n",
    "\n",
    "# get R2 (default score with Lasso models)\n",
    "scores = grid.cv_results_['mean_test_score']\n",
    "scores_std = grid.cv_results_['std_test_score']\n",
    "\n",
    "# compute standard errors\n",
    "std_error = scores_std / np.sqrt(nb_folds)"
   ]
  },
  {
   "cell_type": "code",
   "execution_count": 41,
   "metadata": {},
   "outputs": [
    {
     "name": "stdout",
     "output_type": "stream",
     "text": [
      "optimal k: 3.0000\n",
      "best R2 (test set): 0.8904\n"
     ]
    }
   ],
   "source": [
    "# get optimal k\n",
    "i_max = np.argmax(scores)\n",
    "best_k = k_values[i_max]\n",
    "best_score = scores[i_max]\n",
    "print(\"optimal k: {0:0.4f}\".format(best_k))\n",
    "print(\"best R2 (test set): {0:0.4f}\".format(best_score))"
   ]
  },
  {
   "cell_type": "code",
   "execution_count": 42,
   "metadata": {},
   "outputs": [
    {
     "data": {
      "text/plain": [
       "KNeighborsClassifier(algorithm='auto', leaf_size=30, metric='minkowski',\n",
       "                     metric_params=None, n_jobs=None, n_neighbors=3, p=2,\n",
       "                     weights='uniform')"
      ]
     },
     "execution_count": 42,
     "metadata": {},
     "output_type": "execute_result"
    }
   ],
   "source": [
    "neigh = neighbors.KNeighborsClassifier(n_neighbors=3)\n",
    "neigh.fit(X_train_processed_minmax, y_train)"
   ]
  },
  {
   "cell_type": "code",
   "execution_count": 43,
   "metadata": {},
   "outputs": [],
   "source": [
    "y_preprocessed = neigh.predict(X_test_processed_minmax)"
   ]
  },
  {
   "cell_type": "code",
   "execution_count": 44,
   "metadata": {},
   "outputs": [
    {
     "name": "stdout",
     "output_type": "stream",
     "text": [
      "0.9061287820015514\n"
     ]
    }
   ],
   "source": [
    "f1_neigh_opt_minmax = metrics.f1_score(y_test,y_preprocessed)\n",
    "print(f1_neigh_opt_minmax)"
   ]
  },
  {
   "cell_type": "markdown",
   "metadata": {},
   "source": [
    "Après vérification le F1-score est amélioré"
   ]
  },
  {
   "cell_type": "markdown",
   "metadata": {},
   "source": [
    "## [À partir de la PC 5] Régression logistique"
   ]
  },
  {
   "cell_type": "markdown",
   "metadata": {},
   "source": [
    "### Régression logistique non-régularisée"
   ]
  },
  {
   "cell_type": "markdown",
   "metadata": {},
   "source": [
    "#### Question 11.a\n",
    "\n",
    "Entraînez une régression logistique non-régularisée sur le jeu d'entraînement.\n",
    "\n",
    "__Conseils :__\n",
    "* Vous trouverez les outils nécessaires dans la classe `LogisticRegression` du module `linear_model` de `scikit-learn` ; il s'agit ainsi d'une variante de la PC5. Comme toujours, référez-vous à la [documentation](https://scikit-learn.org/stable/modules/generated/sklearn.linear_model.LogisticRegression.html).\n",
    "* Pour ne pas avoir de régularisation, utilisez `penalty='none'`"
   ]
  },
  {
   "cell_type": "code",
   "execution_count": 45,
   "metadata": {},
   "outputs": [],
   "source": [
    "from sklearn.linear_model import LogisticRegression"
   ]
  },
  {
   "cell_type": "code",
   "execution_count": 46,
   "metadata": {},
   "outputs": [
    {
     "data": {
      "text/plain": [
       "LogisticRegression(C=1.0, class_weight=None, dual=False, fit_intercept=True,\n",
       "                   intercept_scaling=1, l1_ratio=None, max_iter=100,\n",
       "                   multi_class='auto', n_jobs=None, penalty='none',\n",
       "                   random_state=None, solver='lbfgs', tol=0.0001, verbose=0,\n",
       "                   warm_start=False)"
      ]
     },
     "execution_count": 46,
     "metadata": {},
     "output_type": "execute_result"
    }
   ],
   "source": [
    "logreg = LogisticRegression(penalty='none')\n",
    "logreg.fit(X_train_processed, y_train)"
   ]
  },
  {
   "cell_type": "code",
   "execution_count": 47,
   "metadata": {},
   "outputs": [],
   "source": [
    "y_preprocessed = logreg.predict(X_test_processed)"
   ]
  },
  {
   "cell_type": "markdown",
   "metadata": {},
   "source": [
    "#### Question 11.b\n",
    "Évaluez le F-score de cette régression logistique non-régularisée sur le jeu de test."
   ]
  },
  {
   "cell_type": "code",
   "execution_count": 48,
   "metadata": {},
   "outputs": [
    {
     "name": "stdout",
     "output_type": "stream",
     "text": [
      "0.7756778964667215\n"
     ]
    }
   ],
   "source": [
    "f1_logreg_no_penalty = metrics.f1_score(y_test,y_preprocessed)\n",
    "print(f1_logreg_no_penalty)"
   ]
  },
  {
   "cell_type": "markdown",
   "metadata": {},
   "source": [
    "#### Question 12\n",
    "Vous attendez-vous à ce qu'utiliser une régularisation l2 améliore les performances du modèle ? Pourquoi ?"
   ]
  },
  {
   "cell_type": "markdown",
   "metadata": {},
   "source": [
    "Une régularisation l2 diminue le surapprentissage donc on s'attend à une amélioration des performances"
   ]
  },
  {
   "cell_type": "code",
   "execution_count": 49,
   "metadata": {},
   "outputs": [
    {
     "data": {
      "text/plain": [
       "LogisticRegression(C=0.01, class_weight=None, dual=False, fit_intercept=True,\n",
       "                   intercept_scaling=1, l1_ratio=None, max_iter=100,\n",
       "                   multi_class='auto', n_jobs=None, penalty='l2',\n",
       "                   random_state=None, solver='lbfgs', tol=0.0001, verbose=0,\n",
       "                   warm_start=False)"
      ]
     },
     "execution_count": 49,
     "metadata": {},
     "output_type": "execute_result"
    }
   ],
   "source": [
    "logreg = LogisticRegression(penalty='l2', C=1e-2)\n",
    "logreg.fit(X_train_processed, y_train)"
   ]
  },
  {
   "cell_type": "code",
   "execution_count": 50,
   "metadata": {},
   "outputs": [],
   "source": [
    "y_preprocessed = logreg.predict(X_test_processed)"
   ]
  },
  {
   "cell_type": "code",
   "execution_count": 51,
   "metadata": {},
   "outputs": [
    {
     "name": "stdout",
     "output_type": "stream",
     "text": [
      "0.778512396694215\n"
     ]
    }
   ],
   "source": [
    "f1_logreg_l2 = metrics.f1_score(y_test,y_preprocessed)\n",
    "print(f1_logreg_l2)"
   ]
  },
  {
   "cell_type": "markdown",
   "metadata": {},
   "source": [
    "#### Question 13.a\n",
    "Déterminez par validation croisée une valeur optimale du coefficient de régularisation d'une régression logistique avec régularisation ridge."
   ]
  },
  {
   "cell_type": "code",
   "execution_count": 52,
   "metadata": {},
   "outputs": [],
   "source": [
    "C_values = np.logspace(-3, 0, 30)"
   ]
  },
  {
   "cell_type": "code",
   "execution_count": 53,
   "metadata": {},
   "outputs": [
    {
     "name": "stdout",
     "output_type": "stream",
     "text": [
      "Fitting 5 folds for each of 30 candidates, totalling 150 fits\n",
      "[CV] C=0.001 .........................................................\n",
      "[CV] ............................. C=0.001, score=0.500, total=   0.0s\n",
      "[CV] C=0.001 .........................................................\n",
      "[CV] ............................. C=0.001, score=0.500, total=   0.0s\n",
      "[CV] C=0.001 .........................................................\n",
      "[CV] ............................. C=0.001, score=0.500, total=   0.0s\n",
      "[CV] C=0.001 .........................................................\n",
      "[CV] ............................. C=0.001, score=0.500, total=   0.0s\n",
      "[CV] C=0.001 .........................................................\n",
      "[CV] ............................. C=0.001, score=0.500, total=   0.0s\n",
      "[CV] C=0.0012689610031679222 .........................................\n",
      "[CV] ............. C=0.0012689610031679222, score=0.500, total=   0.0s\n",
      "[CV] C=0.0012689610031679222 .........................................\n",
      "[CV] ............. C=0.0012689610031679222, score=0.500, total=   0.0s\n",
      "[CV] C=0.0012689610031679222 .........................................\n",
      "[CV] ............. C=0.0012689610031679222, score=0.500, total=   0.0s\n",
      "[CV] C=0.0012689610031679222 .........................................\n",
      "[CV] ............. C=0.0012689610031679222, score=0.500, total=   0.0s\n",
      "[CV] C=0.0012689610031679222 .........................................\n",
      "[CV] ............. C=0.0012689610031679222, score=0.500, total=   0.0s\n",
      "[CV] C=0.0016102620275609393 .........................................\n",
      "[CV] ............. C=0.0016102620275609393, score=0.665, total=   0.0s\n",
      "[CV] C=0.0016102620275609393 .........................................\n",
      "[CV] ............. C=0.0016102620275609393, score=0.688, total=   0.0s\n",
      "[CV] C=0.0016102620275609393 .........................................\n",
      "[CV] ............. C=0.0016102620275609393, score=0.685, total=   0.0s\n",
      "[CV] C=0.0016102620275609393 .........................................\n",
      "[CV] ............. C=0.0016102620275609393, score=0.653, total=   0.0s\n",
      "[CV] C=0.0016102620275609393 .........................................\n",
      "[CV] ............. C=0.0016102620275609393, score=0.649, total=   0.0s\n",
      "[CV] C=0.0020433597178569417 .........................................\n",
      "[CV] ............. C=0.0020433597178569417, score=0.760, total=   0.0s\n",
      "[CV] C=0.0020433597178569417 .........................................\n",
      "[CV] ............. C=0.0020433597178569417, score=0.758, total=   0.0s\n",
      "[CV] C=0.0020433597178569417 .........................................\n",
      "[CV] ............. C=0.0020433597178569417, score=0.778, total=   0.0s\n",
      "[CV] C=0.0020433597178569417 .........................................\n"
     ]
    },
    {
     "name": "stderr",
     "output_type": "stream",
     "text": [
      "[Parallel(n_jobs=1)]: Using backend SequentialBackend with 1 concurrent workers.\n",
      "[Parallel(n_jobs=1)]: Done   1 out of   1 | elapsed:    0.0s remaining:    0.0s\n",
      "[Parallel(n_jobs=1)]: Done   2 out of   2 | elapsed:    0.0s remaining:    0.0s\n"
     ]
    },
    {
     "name": "stdout",
     "output_type": "stream",
     "text": [
      "[CV] ............. C=0.0020433597178569417, score=0.738, total=   0.0s\n",
      "[CV] C=0.0020433597178569417 .........................................\n",
      "[CV] ............. C=0.0020433597178569417, score=0.755, total=   0.0s\n",
      "[CV] C=0.002592943797404667 ..........................................\n",
      "[CV] .............. C=0.002592943797404667, score=0.770, total=   0.0s\n",
      "[CV] C=0.002592943797404667 ..........................................\n",
      "[CV] .............. C=0.002592943797404667, score=0.777, total=   0.0s\n",
      "[CV] C=0.002592943797404667 ..........................................\n",
      "[CV] .............. C=0.002592943797404667, score=0.783, total=   0.0s\n",
      "[CV] C=0.002592943797404667 ..........................................\n",
      "[CV] .............. C=0.002592943797404667, score=0.750, total=   0.0s\n",
      "[CV] C=0.002592943797404667 ..........................................\n",
      "[CV] .............. C=0.002592943797404667, score=0.766, total=   0.0s\n",
      "[CV] C=0.0032903445623126675 .........................................\n",
      "[CV] ............. C=0.0032903445623126675, score=0.790, total=   0.0s\n",
      "[CV] C=0.0032903445623126675 .........................................\n",
      "[CV] ............. C=0.0032903445623126675, score=0.770, total=   0.0s\n",
      "[CV] C=0.0032903445623126675 .........................................\n",
      "[CV] ............. C=0.0032903445623126675, score=0.783, total=   0.0s\n",
      "[CV] C=0.0032903445623126675 .........................................\n",
      "[CV] ............. C=0.0032903445623126675, score=0.759, total=   0.0s\n",
      "[CV] C=0.0032903445623126675 .........................................\n",
      "[CV] ............. C=0.0032903445623126675, score=0.771, total=   0.0s\n",
      "[CV] C=0.0041753189365604 ............................................\n",
      "[CV] ................ C=0.0041753189365604, score=0.796, total=   0.0s\n",
      "[CV] C=0.0041753189365604 ............................................\n",
      "[CV] ................ C=0.0041753189365604, score=0.761, total=   0.0s\n",
      "[CV] C=0.0041753189365604 ............................................\n",
      "[CV] ................ C=0.0041753189365604, score=0.786, total=   0.0s\n",
      "[CV] C=0.0041753189365604 ............................................\n",
      "[CV] ................ C=0.0041753189365604, score=0.764, total=   0.0s\n",
      "[CV] C=0.0041753189365604 ............................................\n",
      "[CV] ................ C=0.0041753189365604, score=0.777, total=   0.0s\n",
      "[CV] C=0.005298316906283708 ..........................................\n",
      "[CV] .............. C=0.005298316906283708, score=0.793, total=   0.0s\n",
      "[CV] C=0.005298316906283708 ..........................................\n",
      "[CV] .............. C=0.005298316906283708, score=0.757, total=   0.0s\n",
      "[CV] C=0.005298316906283708 ..........................................\n",
      "[CV] .............. C=0.005298316906283708, score=0.784, total=   0.0s\n",
      "[CV] C=0.005298316906283708 ..........................................\n",
      "[CV] .............. C=0.005298316906283708, score=0.768, total=   0.0s\n",
      "[CV] C=0.005298316906283708 ..........................................\n",
      "[CV] .............. C=0.005298316906283708, score=0.776, total=   0.0s\n",
      "[CV] C=0.006723357536499335 ..........................................\n",
      "[CV] .............. C=0.006723357536499335, score=0.791, total=   0.0s\n",
      "[CV] C=0.006723357536499335 ..........................................\n",
      "[CV] .............. C=0.006723357536499335, score=0.760, total=   0.0s\n",
      "[CV] C=0.006723357536499335 ..........................................\n",
      "[CV] .............. C=0.006723357536499335, score=0.785, total=   0.0s\n",
      "[CV] C=0.006723357536499335 ..........................................\n",
      "[CV] .............. C=0.006723357536499335, score=0.764, total=   0.0s\n",
      "[CV] C=0.006723357536499335 ..........................................\n",
      "[CV] .............. C=0.006723357536499335, score=0.775, total=   0.0s\n",
      "[CV] C=0.008531678524172805 ..........................................\n",
      "[CV] .............. C=0.008531678524172805, score=0.791, total=   0.0s\n",
      "[CV] C=0.008531678524172805 ..........................................\n",
      "[CV] .............. C=0.008531678524172805, score=0.757, total=   0.0s\n",
      "[CV] C=0.008531678524172805 ..........................................\n",
      "[CV] .............. C=0.008531678524172805, score=0.787, total=   0.0s\n",
      "[CV] C=0.008531678524172805 ..........................................\n",
      "[CV] .............. C=0.008531678524172805, score=0.757, total=   0.0s\n",
      "[CV] C=0.008531678524172805 ..........................................\n",
      "[CV] .............. C=0.008531678524172805, score=0.772, total=   0.0s\n",
      "[CV] C=0.010826367338740546 ..........................................\n",
      "[CV] .............. C=0.010826367338740546, score=0.787, total=   0.0s\n",
      "[CV] C=0.010826367338740546 ..........................................\n",
      "[CV] .............. C=0.010826367338740546, score=0.756, total=   0.0s\n",
      "[CV] C=0.010826367338740546 ..........................................\n",
      "[CV] .............. C=0.010826367338740546, score=0.783, total=   0.0s\n",
      "[CV] C=0.010826367338740546 ..........................................\n",
      "[CV] .............. C=0.010826367338740546, score=0.758, total=   0.0s\n",
      "[CV] C=0.010826367338740546 ..........................................\n",
      "[CV] .............. C=0.010826367338740546, score=0.770, total=   0.0s\n",
      "[CV] C=0.01373823795883263 ...........................................\n",
      "[CV] ............... C=0.01373823795883263, score=0.789, total=   0.0s\n",
      "[CV] C=0.01373823795883263 ...........................................\n",
      "[CV] ............... C=0.01373823795883263, score=0.755, total=   0.0s\n",
      "[CV] C=0.01373823795883263 ...........................................\n",
      "[CV] ............... C=0.01373823795883263, score=0.787, total=   0.0s\n",
      "[CV] C=0.01373823795883263 ...........................................\n",
      "[CV] ............... C=0.01373823795883263, score=0.759, total=   0.0s\n",
      "[CV] C=0.01373823795883263 ...........................................\n",
      "[CV] ............... C=0.01373823795883263, score=0.775, total=   0.0s\n",
      "[CV] C=0.017433288221999882 ..........................................\n",
      "[CV] .............. C=0.017433288221999882, score=0.784, total=   0.0s\n",
      "[CV] C=0.017433288221999882 ..........................................\n",
      "[CV] .............. C=0.017433288221999882, score=0.761, total=   0.0s\n",
      "[CV] C=0.017433288221999882 ..........................................\n",
      "[CV] .............. C=0.017433288221999882, score=0.784, total=   0.0s\n",
      "[CV] C=0.017433288221999882 ..........................................\n",
      "[CV] .............. C=0.017433288221999882, score=0.758, total=   0.0s\n",
      "[CV] C=0.017433288221999882 ..........................................\n",
      "[CV] .............. C=0.017433288221999882, score=0.773, total=   0.0s\n",
      "[CV] C=0.022122162910704492 ..........................................\n",
      "[CV] .............. C=0.022122162910704492, score=0.779, total=   0.0s\n",
      "[CV] C=0.022122162910704492 ..........................................\n",
      "[CV] .............. C=0.022122162910704492, score=0.767, total=   0.0s\n",
      "[CV] C=0.022122162910704492 ..........................................\n",
      "[CV] .............. C=0.022122162910704492, score=0.781, total=   0.0s\n",
      "[CV] C=0.022122162910704492 ..........................................\n",
      "[CV] .............. C=0.022122162910704492, score=0.759, total=   0.0s\n",
      "[CV] C=0.022122162910704492 ..........................................\n",
      "[CV] .............. C=0.022122162910704492, score=0.774, total=   0.0s\n",
      "[CV] C=0.02807216203941177 ...........................................\n",
      "[CV] ............... C=0.02807216203941177, score=0.776, total=   0.0s\n",
      "[CV] C=0.02807216203941177 ...........................................\n",
      "[CV] ............... C=0.02807216203941177, score=0.767, total=   0.0s\n",
      "[CV] C=0.02807216203941177 ...........................................\n",
      "[CV] ............... C=0.02807216203941177, score=0.778, total=   0.0s\n",
      "[CV] C=0.02807216203941177 ...........................................\n",
      "[CV] ............... C=0.02807216203941177, score=0.760, total=   0.0s\n",
      "[CV] C=0.02807216203941177 ...........................................\n",
      "[CV] ............... C=0.02807216203941177, score=0.776, total=   0.0s\n",
      "[CV] C=0.035622478902624426 ..........................................\n",
      "[CV] .............. C=0.035622478902624426, score=0.776, total=   0.0s\n",
      "[CV] C=0.035622478902624426 ..........................................\n",
      "[CV] .............. C=0.035622478902624426, score=0.769, total=   0.0s\n",
      "[CV] C=0.035622478902624426 ..........................................\n",
      "[CV] .............. C=0.035622478902624426, score=0.778, total=   0.0s\n",
      "[CV] C=0.035622478902624426 ..........................................\n",
      "[CV] .............. C=0.035622478902624426, score=0.762, total=   0.0s\n",
      "[CV] C=0.035622478902624426 ..........................................\n",
      "[CV] .............. C=0.035622478902624426, score=0.778, total=   0.0s\n",
      "[CV] C=0.04520353656360243 ...........................................\n"
     ]
    },
    {
     "name": "stdout",
     "output_type": "stream",
     "text": [
      "[CV] ............... C=0.04520353656360243, score=0.777, total=   0.0s\n",
      "[CV] C=0.04520353656360243 ...........................................\n",
      "[CV] ............... C=0.04520353656360243, score=0.773, total=   0.0s\n",
      "[CV] C=0.04520353656360243 ...........................................\n",
      "[CV] ............... C=0.04520353656360243, score=0.777, total=   0.0s\n",
      "[CV] C=0.04520353656360243 ...........................................\n",
      "[CV] ............... C=0.04520353656360243, score=0.764, total=   0.0s\n",
      "[CV] C=0.04520353656360243 ...........................................\n",
      "[CV] ............... C=0.04520353656360243, score=0.776, total=   0.0s\n",
      "[CV] C=0.057361525104486784 ..........................................\n",
      "[CV] .............. C=0.057361525104486784, score=0.775, total=   0.0s\n",
      "[CV] C=0.057361525104486784 ..........................................\n",
      "[CV] .............. C=0.057361525104486784, score=0.771, total=   0.0s\n",
      "[CV] C=0.057361525104486784 ..........................................\n",
      "[CV] .............. C=0.057361525104486784, score=0.780, total=   0.0s\n",
      "[CV] C=0.057361525104486784 ..........................................\n",
      "[CV] .............. C=0.057361525104486784, score=0.762, total=   0.0s\n",
      "[CV] C=0.057361525104486784 ..........................................\n",
      "[CV] .............. C=0.057361525104486784, score=0.777, total=   0.0s\n",
      "[CV] C=0.0727895384398315 ............................................\n",
      "[CV] ................ C=0.0727895384398315, score=0.774, total=   0.0s\n",
      "[CV] C=0.0727895384398315 ............................................\n",
      "[CV] ................ C=0.0727895384398315, score=0.770, total=   0.0s\n",
      "[CV] C=0.0727895384398315 ............................................\n",
      "[CV] ................ C=0.0727895384398315, score=0.780, total=   0.0s\n",
      "[CV] C=0.0727895384398315 ............................................\n",
      "[CV] ................ C=0.0727895384398315, score=0.759, total=   0.0s\n",
      "[CV] C=0.0727895384398315 ............................................\n",
      "[CV] ................ C=0.0727895384398315, score=0.779, total=   0.0s\n",
      "[CV] C=0.09236708571873861 ...........................................\n",
      "[CV] ............... C=0.09236708571873861, score=0.775, total=   0.0s\n",
      "[CV] C=0.09236708571873861 ...........................................\n",
      "[CV] ............... C=0.09236708571873861, score=0.768, total=   0.0s\n",
      "[CV] C=0.09236708571873861 ...........................................\n",
      "[CV] ............... C=0.09236708571873861, score=0.779, total=   0.0s\n",
      "[CV] C=0.09236708571873861 ...........................................\n",
      "[CV] ............... C=0.09236708571873861, score=0.757, total=   0.0s\n",
      "[CV] C=0.09236708571873861 ...........................................\n",
      "[CV] ............... C=0.09236708571873861, score=0.776, total=   0.0s\n",
      "[CV] C=0.11721022975334805 ...........................................\n",
      "[CV] ............... C=0.11721022975334805, score=0.772, total=   0.0s\n",
      "[CV] C=0.11721022975334805 ...........................................\n",
      "[CV] ............... C=0.11721022975334805, score=0.769, total=   0.0s\n",
      "[CV] C=0.11721022975334805 ...........................................\n",
      "[CV] ............... C=0.11721022975334805, score=0.777, total=   0.0s\n",
      "[CV] C=0.11721022975334805 ...........................................\n",
      "[CV] ............... C=0.11721022975334805, score=0.755, total=   0.0s\n",
      "[CV] C=0.11721022975334805 ...........................................\n",
      "[CV] ............... C=0.11721022975334805, score=0.775, total=   0.0s\n",
      "[CV] C=0.14873521072935117 ...........................................\n",
      "[CV] ............... C=0.14873521072935117, score=0.772, total=   0.0s\n",
      "[CV] C=0.14873521072935117 ...........................................\n",
      "[CV] ............... C=0.14873521072935117, score=0.769, total=   0.0s\n",
      "[CV] C=0.14873521072935117 ...........................................\n",
      "[CV] ............... C=0.14873521072935117, score=0.777, total=   0.0s\n",
      "[CV] C=0.14873521072935117 ...........................................\n",
      "[CV] ............... C=0.14873521072935117, score=0.756, total=   0.0s\n",
      "[CV] C=0.14873521072935117 ...........................................\n",
      "[CV] ............... C=0.14873521072935117, score=0.774, total=   0.0s\n",
      "[CV] C=0.18873918221350977 ...........................................\n",
      "[CV] ............... C=0.18873918221350977, score=0.772, total=   0.0s\n",
      "[CV] C=0.18873918221350977 ...........................................\n",
      "[CV] ............... C=0.18873918221350977, score=0.771, total=   0.0s\n",
      "[CV] C=0.18873918221350977 ...........................................\n",
      "[CV] ............... C=0.18873918221350977, score=0.776, total=   0.0s\n",
      "[CV] C=0.18873918221350977 ...........................................\n",
      "[CV] ............... C=0.18873918221350977, score=0.755, total=   0.0s\n",
      "[CV] C=0.18873918221350977 ...........................................\n",
      "[CV] ............... C=0.18873918221350977, score=0.773, total=   0.0s\n",
      "[CV] C=0.2395026619987486 ............................................\n",
      "[CV] ................ C=0.2395026619987486, score=0.771, total=   0.1s\n",
      "[CV] C=0.2395026619987486 ............................................\n",
      "[CV] ................ C=0.2395026619987486, score=0.772, total=   0.0s\n",
      "[CV] C=0.2395026619987486 ............................................\n",
      "[CV] ................ C=0.2395026619987486, score=0.776, total=   0.1s\n",
      "[CV] C=0.2395026619987486 ............................................\n",
      "[CV] ................ C=0.2395026619987486, score=0.754, total=   0.0s\n",
      "[CV] C=0.2395026619987486 ............................................\n",
      "[CV] ................ C=0.2395026619987486, score=0.772, total=   0.0s\n",
      "[CV] C=0.3039195382313198 ............................................\n",
      "[CV] ................ C=0.3039195382313198, score=0.771, total=   0.0s\n",
      "[CV] C=0.3039195382313198 ............................................\n",
      "[CV] ................ C=0.3039195382313198, score=0.772, total=   0.0s\n",
      "[CV] C=0.3039195382313198 ............................................\n",
      "[CV] ................ C=0.3039195382313198, score=0.774, total=   0.1s\n",
      "[CV] C=0.3039195382313198 ............................................\n",
      "[CV] ................ C=0.3039195382313198, score=0.752, total=   0.1s\n",
      "[CV] C=0.3039195382313198 ............................................\n",
      "[CV] ................ C=0.3039195382313198, score=0.772, total=   0.0s\n",
      "[CV] C=0.38566204211634725 ...........................................\n",
      "[CV] ............... C=0.38566204211634725, score=0.771, total=   0.1s\n",
      "[CV] C=0.38566204211634725 ...........................................\n",
      "[CV] ............... C=0.38566204211634725, score=0.772, total=   0.0s\n",
      "[CV] C=0.38566204211634725 ...........................................\n",
      "[CV] ............... C=0.38566204211634725, score=0.773, total=   0.1s\n",
      "[CV] C=0.38566204211634725 ...........................................\n",
      "[CV] ............... C=0.38566204211634725, score=0.752, total=   0.1s\n",
      "[CV] C=0.38566204211634725 ...........................................\n",
      "[CV] ............... C=0.38566204211634725, score=0.773, total=   0.1s\n",
      "[CV] C=0.4893900918477494 ............................................\n",
      "[CV] ................ C=0.4893900918477494, score=0.770, total=   0.1s\n",
      "[CV] C=0.4893900918477494 ............................................\n",
      "[CV] ................ C=0.4893900918477494, score=0.775, total=   0.1s\n",
      "[CV] C=0.4893900918477494 ............................................\n",
      "[CV] ................ C=0.4893900918477494, score=0.774, total=   0.2s\n",
      "[CV] C=0.4893900918477494 ............................................\n",
      "[CV] ................ C=0.4893900918477494, score=0.751, total=   0.1s\n",
      "[CV] C=0.4893900918477494 ............................................\n",
      "[CV] ................ C=0.4893900918477494, score=0.775, total=   0.1s\n",
      "[CV] C=0.6210169418915616 ............................................\n",
      "[CV] ................ C=0.6210169418915616, score=0.770, total=   0.1s\n",
      "[CV] C=0.6210169418915616 ............................................\n",
      "[CV] ................ C=0.6210169418915616, score=0.775, total=   0.2s\n",
      "[CV] C=0.6210169418915616 ............................................\n",
      "[CV] ................ C=0.6210169418915616, score=0.775, total=   0.1s\n",
      "[CV] C=0.6210169418915616 ............................................\n",
      "[CV] ................ C=0.6210169418915616, score=0.753, total=   0.1s\n"
     ]
    },
    {
     "name": "stdout",
     "output_type": "stream",
     "text": [
      "[CV] C=0.6210169418915616 ............................................\n",
      "[CV] ................ C=0.6210169418915616, score=0.775, total=   0.1s\n",
      "[CV] C=0.7880462815669912 ............................................\n",
      "[CV] ................ C=0.7880462815669912, score=0.773, total=   0.1s\n",
      "[CV] C=0.7880462815669912 ............................................\n",
      "[CV] ................ C=0.7880462815669912, score=0.775, total=   0.1s\n",
      "[CV] C=0.7880462815669912 ............................................\n",
      "[CV] ................ C=0.7880462815669912, score=0.774, total=   0.1s\n",
      "[CV] C=0.7880462815669912 ............................................\n",
      "[CV] ................ C=0.7880462815669912, score=0.751, total=   0.1s\n",
      "[CV] C=0.7880462815669912 ............................................\n",
      "[CV] ................ C=0.7880462815669912, score=0.775, total=   0.1s\n",
      "[CV] C=1.0 ...........................................................\n",
      "[CV] ............................... C=1.0, score=0.773, total=   0.1s\n",
      "[CV] C=1.0 ...........................................................\n",
      "[CV] ............................... C=1.0, score=0.775, total=   0.1s\n",
      "[CV] C=1.0 ...........................................................\n",
      "[CV] ............................... C=1.0, score=0.772, total=   0.0s\n",
      "[CV] C=1.0 ...........................................................\n",
      "[CV] ............................... C=1.0, score=0.751, total=   0.0s\n",
      "[CV] C=1.0 ...........................................................\n",
      "[CV] ............................... C=1.0, score=0.775, total=   0.1s\n"
     ]
    },
    {
     "name": "stderr",
     "output_type": "stream",
     "text": [
      "[Parallel(n_jobs=1)]: Done 150 out of 150 | elapsed:    4.4s finished\n"
     ]
    }
   ],
   "source": [
    "# define model\n",
    "logreg = LogisticRegression(penalty='l1', random_state=13, max_iter=10000, solver='saga')\n",
    "\n",
    "# define gridsearch\n",
    "tuned_parameters = [{'C': C_values}]\n",
    "nb_folds = 5\n",
    "grid = GridSearchCV(logreg, tuned_parameters, cv=nb_folds, refit=False, verbose=3)\n",
    "\n",
    "# run gridsearch \n",
    "grid.fit(X_train_processed, y_train)\n",
    "\n",
    "# get R2 (default score with Lasso models)\n",
    "scores = grid.cv_results_['mean_test_score']\n",
    "scores_std = grid.cv_results_['std_test_score']\n",
    "\n",
    "# compute standard errors\n",
    "std_error = scores_std / np.sqrt(nb_folds)"
   ]
  },
  {
   "cell_type": "code",
   "execution_count": 54,
   "metadata": {},
   "outputs": [
    {
     "name": "stdout",
     "output_type": "stream",
     "text": [
      "optimal C: 0.0042\n",
      "best R2 (test set): 0.7769\n"
     ]
    }
   ],
   "source": [
    "# get optimal C\n",
    "i_max = np.argmax(scores)\n",
    "best_C = C_values[i_max]\n",
    "best_score = scores[i_max]\n",
    "print(\"optimal C: {0:0.4f}\".format(best_C))\n",
    "print(\"best R2 (test set): {0:0.4f}\".format(best_score))"
   ]
  },
  {
   "cell_type": "markdown",
   "metadata": {
    "tags": []
   },
   "source": [
    "#### Question 13.b\n",
    "Quel est le F-score, sur le jeu de test, d'une régression logistique avec régularisation ridge et ce coefficient de régularisation optimal, entraînée sur le jeu d'entraînement ?"
   ]
  },
  {
   "cell_type": "code",
   "execution_count": 55,
   "metadata": {},
   "outputs": [
    {
     "data": {
      "text/plain": [
       "LogisticRegression(C=0.0042, class_weight=None, dual=False, fit_intercept=True,\n",
       "                   intercept_scaling=1, l1_ratio=None, max_iter=100,\n",
       "                   multi_class='auto', n_jobs=None, penalty='l2',\n",
       "                   random_state=None, solver='lbfgs', tol=0.0001, verbose=0,\n",
       "                   warm_start=False)"
      ]
     },
     "execution_count": 55,
     "metadata": {},
     "output_type": "execute_result"
    }
   ],
   "source": [
    "logreg = LogisticRegression(penalty='l2', C=0.0042)\n",
    "logreg.fit(X_train_processed, y_train)"
   ]
  },
  {
   "cell_type": "code",
   "execution_count": 56,
   "metadata": {},
   "outputs": [],
   "source": [
    "y_preprocessed = logreg.predict(X_test_processed)"
   ]
  },
  {
   "cell_type": "code",
   "execution_count": 57,
   "metadata": {},
   "outputs": [
    {
     "name": "stdout",
     "output_type": "stream",
     "text": [
      "0.7725392886683208\n"
     ]
    }
   ],
   "source": [
    "f1_logreg_opt = metrics.f1_score(y_test,y_preprocessed)\n",
    "print(f1_logreg_opt)"
   ]
  },
  {
   "cell_type": "markdown",
   "metadata": {},
   "source": [
    "#### Question 13.c\n",
    "Commentez ce résultat en regard de votre réponse à la question 12."
   ]
  },
  {
   "cell_type": "markdown",
   "metadata": {},
   "source": [
    "Le F1-score n'est pas amélioré..."
   ]
  },
  {
   "cell_type": "markdown",
   "metadata": {},
   "source": [
    "##### Minmax"
   ]
  },
  {
   "cell_type": "code",
   "execution_count": 58,
   "metadata": {},
   "outputs": [
    {
     "name": "stderr",
     "output_type": "stream",
     "text": [
      "[Parallel(n_jobs=1)]: Using backend SequentialBackend with 1 concurrent workers.\n",
      "[Parallel(n_jobs=1)]: Done   1 out of   1 | elapsed:    0.0s remaining:    0.0s\n",
      "[Parallel(n_jobs=1)]: Done   2 out of   2 | elapsed:    0.0s remaining:    0.0s\n"
     ]
    },
    {
     "name": "stdout",
     "output_type": "stream",
     "text": [
      "Fitting 5 folds for each of 30 candidates, totalling 150 fits\n",
      "[CV] C=0.001 .........................................................\n",
      "[CV] ............................. C=0.001, score=0.500, total=   0.0s\n",
      "[CV] C=0.001 .........................................................\n",
      "[CV] ............................. C=0.001, score=0.500, total=   0.0s\n",
      "[CV] C=0.001 .........................................................\n",
      "[CV] ............................. C=0.001, score=0.500, total=   0.0s\n",
      "[CV] C=0.001 .........................................................\n",
      "[CV] ............................. C=0.001, score=0.500, total=   0.0s\n",
      "[CV] C=0.001 .........................................................\n",
      "[CV] ............................. C=0.001, score=0.500, total=   0.0s\n",
      "[CV] C=0.0012689610031679222 .........................................\n",
      "[CV] ............. C=0.0012689610031679222, score=0.500, total=   0.0s\n",
      "[CV] C=0.0012689610031679222 .........................................\n",
      "[CV] ............. C=0.0012689610031679222, score=0.500, total=   0.0s\n",
      "[CV] C=0.0012689610031679222 .........................................\n",
      "[CV] ............. C=0.0012689610031679222, score=0.500, total=   0.0s\n",
      "[CV] C=0.0012689610031679222 .........................................\n",
      "[CV] ............. C=0.0012689610031679222, score=0.500, total=   0.0s\n",
      "[CV] C=0.0012689610031679222 .........................................\n",
      "[CV] ............. C=0.0012689610031679222, score=0.500, total=   0.0s\n",
      "[CV] C=0.0016102620275609393 .........................................\n",
      "[CV] ............. C=0.0016102620275609393, score=0.500, total=   0.0s\n",
      "[CV] C=0.0016102620275609393 .........................................\n",
      "[CV] ............. C=0.0016102620275609393, score=0.500, total=   0.0s\n",
      "[CV] C=0.0016102620275609393 .........................................\n",
      "[CV] ............. C=0.0016102620275609393, score=0.500, total=   0.0s\n",
      "[CV] C=0.0016102620275609393 .........................................\n",
      "[CV] ............. C=0.0016102620275609393, score=0.500, total=   0.0s\n",
      "[CV] C=0.0016102620275609393 .........................................\n",
      "[CV] ............. C=0.0016102620275609393, score=0.500, total=   0.0s\n",
      "[CV] C=0.0020433597178569417 .........................................\n",
      "[CV] ............. C=0.0020433597178569417, score=0.500, total=   0.0s\n",
      "[CV] C=0.0020433597178569417 .........................................\n",
      "[CV] ............. C=0.0020433597178569417, score=0.500, total=   0.0s\n",
      "[CV] C=0.0020433597178569417 .........................................\n",
      "[CV] ............. C=0.0020433597178569417, score=0.500, total=   0.0s\n",
      "[CV] C=0.0020433597178569417 .........................................\n",
      "[CV] ............. C=0.0020433597178569417, score=0.500, total=   0.0s\n",
      "[CV] C=0.0020433597178569417 .........................................\n",
      "[CV] ............. C=0.0020433597178569417, score=0.500, total=   0.0s\n",
      "[CV] C=0.002592943797404667 ..........................................\n",
      "[CV] .............. C=0.002592943797404667, score=0.500, total=   0.0s\n",
      "[CV] C=0.002592943797404667 ..........................................\n",
      "[CV] .............. C=0.002592943797404667, score=0.500, total=   0.0s\n",
      "[CV] C=0.002592943797404667 ..........................................\n",
      "[CV] .............. C=0.002592943797404667, score=0.500, total=   0.0s\n",
      "[CV] C=0.002592943797404667 ..........................................\n",
      "[CV] .............. C=0.002592943797404667, score=0.500, total=   0.0s\n",
      "[CV] C=0.002592943797404667 ..........................................\n",
      "[CV] .............. C=0.002592943797404667, score=0.500, total=   0.0s\n",
      "[CV] C=0.0032903445623126675 .........................................\n",
      "[CV] ............. C=0.0032903445623126675, score=0.500, total=   0.0s\n",
      "[CV] C=0.0032903445623126675 .........................................\n",
      "[CV] ............. C=0.0032903445623126675, score=0.500, total=   0.0s\n",
      "[CV] C=0.0032903445623126675 .........................................\n",
      "[CV] ............. C=0.0032903445623126675, score=0.500, total=   0.0s\n",
      "[CV] C=0.0032903445623126675 .........................................\n",
      "[CV] ............. C=0.0032903445623126675, score=0.500, total=   0.0s\n",
      "[CV] C=0.0032903445623126675 .........................................\n",
      "[CV] ............. C=0.0032903445623126675, score=0.500, total=   0.0s\n",
      "[CV] C=0.0041753189365604 ............................................\n",
      "[CV] ................ C=0.0041753189365604, score=0.500, total=   0.0s\n",
      "[CV] C=0.0041753189365604 ............................................\n",
      "[CV] ................ C=0.0041753189365604, score=0.500, total=   0.0s\n",
      "[CV] C=0.0041753189365604 ............................................\n",
      "[CV] ................ C=0.0041753189365604, score=0.500, total=   0.0s\n",
      "[CV] C=0.0041753189365604 ............................................\n",
      "[CV] ................ C=0.0041753189365604, score=0.500, total=   0.0s\n",
      "[CV] C=0.0041753189365604 ............................................\n",
      "[CV] ................ C=0.0041753189365604, score=0.500, total=   0.0s\n",
      "[CV] C=0.005298316906283708 ..........................................\n",
      "[CV] .............. C=0.005298316906283708, score=0.500, total=   0.0s\n",
      "[CV] C=0.005298316906283708 ..........................................\n",
      "[CV] .............. C=0.005298316906283708, score=0.500, total=   0.0s\n",
      "[CV] C=0.005298316906283708 ..........................................\n",
      "[CV] .............. C=0.005298316906283708, score=0.500, total=   0.0s\n",
      "[CV] C=0.005298316906283708 ..........................................\n",
      "[CV] .............. C=0.005298316906283708, score=0.500, total=   0.0s\n",
      "[CV] C=0.005298316906283708 ..........................................\n",
      "[CV] .............. C=0.005298316906283708, score=0.500, total=   0.0s\n",
      "[CV] C=0.006723357536499335 ..........................................\n",
      "[CV] .............. C=0.006723357536499335, score=0.665, total=   0.0s\n",
      "[CV] C=0.006723357536499335 ..........................................\n",
      "[CV] .............. C=0.006723357536499335, score=0.688, total=   0.0s\n",
      "[CV] C=0.006723357536499335 ..........................................\n",
      "[CV] .............. C=0.006723357536499335, score=0.685, total=   0.0s\n",
      "[CV] C=0.006723357536499335 ..........................................\n",
      "[CV] .............. C=0.006723357536499335, score=0.654, total=   0.0s\n",
      "[CV] C=0.006723357536499335 ..........................................\n",
      "[CV] .............. C=0.006723357536499335, score=0.650, total=   0.0s\n",
      "[CV] C=0.008531678524172805 ..........................................\n",
      "[CV] .............. C=0.008531678524172805, score=0.665, total=   0.0s\n",
      "[CV] C=0.008531678524172805 ..........................................\n",
      "[CV] .............. C=0.008531678524172805, score=0.688, total=   0.0s\n",
      "[CV] C=0.008531678524172805 ..........................................\n",
      "[CV] .............. C=0.008531678524172805, score=0.686, total=   0.0s\n",
      "[CV] C=0.008531678524172805 ..........................................\n",
      "[CV] .............. C=0.008531678524172805, score=0.656, total=   0.0s\n",
      "[CV] C=0.008531678524172805 ..........................................\n",
      "[CV] .............. C=0.008531678524172805, score=0.654, total=   0.0s\n",
      "[CV] C=0.010826367338740546 ..........................................\n",
      "[CV] .............. C=0.010826367338740546, score=0.669, total=   0.0s\n",
      "[CV] C=0.010826367338740546 ..........................................\n",
      "[CV] .............. C=0.010826367338740546, score=0.671, total=   0.0s\n",
      "[CV] C=0.010826367338740546 ..........................................\n",
      "[CV] .............. C=0.010826367338740546, score=0.683, total=   0.0s\n",
      "[CV] C=0.010826367338740546 ..........................................\n",
      "[CV] .............. C=0.010826367338740546, score=0.659, total=   0.0s\n",
      "[CV] C=0.010826367338740546 ..........................................\n",
      "[CV] .............. C=0.010826367338740546, score=0.657, total=   0.0s\n",
      "[CV] C=0.01373823795883263 ...........................................\n",
      "[CV] ............... C=0.01373823795883263, score=0.695, total=   0.0s\n",
      "[CV] C=0.01373823795883263 ...........................................\n",
      "[CV] ............... C=0.01373823795883263, score=0.692, total=   0.0s\n",
      "[CV] C=0.01373823795883263 ...........................................\n"
     ]
    },
    {
     "name": "stdout",
     "output_type": "stream",
     "text": [
      "[CV] ............... C=0.01373823795883263, score=0.706, total=   0.0s\n",
      "[CV] C=0.01373823795883263 ...........................................\n",
      "[CV] ............... C=0.01373823795883263, score=0.659, total=   0.0s\n",
      "[CV] C=0.01373823795883263 ...........................................\n",
      "[CV] ............... C=0.01373823795883263, score=0.678, total=   0.0s\n",
      "[CV] C=0.017433288221999882 ..........................................\n",
      "[CV] .............. C=0.017433288221999882, score=0.735, total=   0.0s\n",
      "[CV] C=0.017433288221999882 ..........................................\n",
      "[CV] .............. C=0.017433288221999882, score=0.728, total=   0.0s\n",
      "[CV] C=0.017433288221999882 ..........................................\n",
      "[CV] .............. C=0.017433288221999882, score=0.748, total=   0.0s\n",
      "[CV] C=0.017433288221999882 ..........................................\n",
      "[CV] .............. C=0.017433288221999882, score=0.704, total=   0.0s\n",
      "[CV] C=0.017433288221999882 ..........................................\n",
      "[CV] .............. C=0.017433288221999882, score=0.715, total=   0.0s\n",
      "[CV] C=0.022122162910704492 ..........................................\n",
      "[CV] .............. C=0.022122162910704492, score=0.754, total=   0.0s\n",
      "[CV] C=0.022122162910704492 ..........................................\n",
      "[CV] .............. C=0.022122162910704492, score=0.743, total=   0.0s\n",
      "[CV] C=0.022122162910704492 ..........................................\n",
      "[CV] .............. C=0.022122162910704492, score=0.760, total=   0.0s\n",
      "[CV] C=0.022122162910704492 ..........................................\n",
      "[CV] .............. C=0.022122162910704492, score=0.718, total=   0.0s\n",
      "[CV] C=0.022122162910704492 ..........................................\n",
      "[CV] .............. C=0.022122162910704492, score=0.736, total=   0.0s\n",
      "[CV] C=0.02807216203941177 ...........................................\n",
      "[CV] ............... C=0.02807216203941177, score=0.766, total=   0.0s\n",
      "[CV] C=0.02807216203941177 ...........................................\n",
      "[CV] ............... C=0.02807216203941177, score=0.759, total=   0.0s\n",
      "[CV] C=0.02807216203941177 ...........................................\n",
      "[CV] ............... C=0.02807216203941177, score=0.779, total=   0.0s\n",
      "[CV] C=0.02807216203941177 ...........................................\n",
      "[CV] ............... C=0.02807216203941177, score=0.740, total=   0.0s\n",
      "[CV] C=0.02807216203941177 ...........................................\n",
      "[CV] ............... C=0.02807216203941177, score=0.754, total=   0.0s\n",
      "[CV] C=0.035622478902624426 ..........................................\n",
      "[CV] .............. C=0.035622478902624426, score=0.778, total=   0.0s\n",
      "[CV] C=0.035622478902624426 ..........................................\n",
      "[CV] .............. C=0.035622478902624426, score=0.761, total=   0.0s\n",
      "[CV] C=0.035622478902624426 ..........................................\n",
      "[CV] .............. C=0.035622478902624426, score=0.785, total=   0.0s\n",
      "[CV] C=0.035622478902624426 ..........................................\n",
      "[CV] .............. C=0.035622478902624426, score=0.752, total=   0.0s\n",
      "[CV] C=0.035622478902624426 ..........................................\n",
      "[CV] .............. C=0.035622478902624426, score=0.769, total=   0.0s\n",
      "[CV] C=0.04520353656360243 ...........................................\n",
      "[CV] ............... C=0.04520353656360243, score=0.785, total=   0.0s\n",
      "[CV] C=0.04520353656360243 ...........................................\n",
      "[CV] ............... C=0.04520353656360243, score=0.753, total=   0.0s\n",
      "[CV] C=0.04520353656360243 ...........................................\n",
      "[CV] ............... C=0.04520353656360243, score=0.783, total=   0.0s\n",
      "[CV] C=0.04520353656360243 ...........................................\n",
      "[CV] ............... C=0.04520353656360243, score=0.757, total=   0.0s\n",
      "[CV] C=0.04520353656360243 ...........................................\n",
      "[CV] ............... C=0.04520353656360243, score=0.772, total=   0.0s\n",
      "[CV] C=0.057361525104486784 ..........................................\n",
      "[CV] .............. C=0.057361525104486784, score=0.790, total=   0.0s\n",
      "[CV] C=0.057361525104486784 ..........................................\n",
      "[CV] .............. C=0.057361525104486784, score=0.751, total=   0.0s\n",
      "[CV] C=0.057361525104486784 ..........................................\n",
      "[CV] .............. C=0.057361525104486784, score=0.784, total=   0.0s\n",
      "[CV] C=0.057361525104486784 ..........................................\n",
      "[CV] .............. C=0.057361525104486784, score=0.759, total=   0.0s\n",
      "[CV] C=0.057361525104486784 ..........................................\n",
      "[CV] .............. C=0.057361525104486784, score=0.770, total=   0.0s\n",
      "[CV] C=0.0727895384398315 ............................................\n",
      "[CV] ................ C=0.0727895384398315, score=0.783, total=   0.0s\n",
      "[CV] C=0.0727895384398315 ............................................\n",
      "[CV] ................ C=0.0727895384398315, score=0.760, total=   0.0s\n",
      "[CV] C=0.0727895384398315 ............................................\n",
      "[CV] ................ C=0.0727895384398315, score=0.785, total=   0.0s\n",
      "[CV] C=0.0727895384398315 ............................................\n",
      "[CV] ................ C=0.0727895384398315, score=0.764, total=   0.0s\n",
      "[CV] C=0.0727895384398315 ............................................\n",
      "[CV] ................ C=0.0727895384398315, score=0.777, total=   0.0s\n",
      "[CV] C=0.09236708571873861 ...........................................\n",
      "[CV] ............... C=0.09236708571873861, score=0.779, total=   0.0s\n",
      "[CV] C=0.09236708571873861 ...........................................\n",
      "[CV] ............... C=0.09236708571873861, score=0.766, total=   0.0s\n",
      "[CV] C=0.09236708571873861 ...........................................\n",
      "[CV] ............... C=0.09236708571873861, score=0.783, total=   0.0s\n",
      "[CV] C=0.09236708571873861 ...........................................\n",
      "[CV] ............... C=0.09236708571873861, score=0.760, total=   0.0s\n",
      "[CV] C=0.09236708571873861 ...........................................\n",
      "[CV] ............... C=0.09236708571873861, score=0.777, total=   0.0s\n",
      "[CV] C=0.11721022975334805 ...........................................\n",
      "[CV] ............... C=0.11721022975334805, score=0.779, total=   0.0s\n",
      "[CV] C=0.11721022975334805 ...........................................\n",
      "[CV] ............... C=0.11721022975334805, score=0.767, total=   0.0s\n",
      "[CV] C=0.11721022975334805 ...........................................\n",
      "[CV] ............... C=0.11721022975334805, score=0.778, total=   0.0s\n",
      "[CV] C=0.11721022975334805 ...........................................\n",
      "[CV] ............... C=0.11721022975334805, score=0.758, total=   0.0s\n",
      "[CV] C=0.11721022975334805 ...........................................\n",
      "[CV] ............... C=0.11721022975334805, score=0.775, total=   0.0s\n",
      "[CV] C=0.14873521072935117 ...........................................\n",
      "[CV] ............... C=0.14873521072935117, score=0.780, total=   0.0s\n",
      "[CV] C=0.14873521072935117 ...........................................\n",
      "[CV] ............... C=0.14873521072935117, score=0.767, total=   0.0s\n",
      "[CV] C=0.14873521072935117 ...........................................\n",
      "[CV] ............... C=0.14873521072935117, score=0.776, total=   0.0s\n",
      "[CV] C=0.14873521072935117 ...........................................\n",
      "[CV] ............... C=0.14873521072935117, score=0.757, total=   0.0s\n",
      "[CV] C=0.14873521072935117 ...........................................\n",
      "[CV] ............... C=0.14873521072935117, score=0.779, total=   0.0s\n",
      "[CV] C=0.18873918221350977 ...........................................\n",
      "[CV] ............... C=0.18873918221350977, score=0.780, total=   0.0s\n",
      "[CV] C=0.18873918221350977 ...........................................\n",
      "[CV] ............... C=0.18873918221350977, score=0.769, total=   0.0s\n",
      "[CV] C=0.18873918221350977 ...........................................\n",
      "[CV] ............... C=0.18873918221350977, score=0.778, total=   0.0s\n",
      "[CV] C=0.18873918221350977 ...........................................\n",
      "[CV] ............... C=0.18873918221350977, score=0.758, total=   0.0s\n",
      "[CV] C=0.18873918221350977 ...........................................\n",
      "[CV] ............... C=0.18873918221350977, score=0.778, total=   0.0s\n",
      "[CV] C=0.2395026619987486 ............................................\n",
      "[CV] ................ C=0.2395026619987486, score=0.777, total=   0.0s\n",
      "[CV] C=0.2395026619987486 ............................................\n",
      "[CV] ................ C=0.2395026619987486, score=0.769, total=   0.0s\n",
      "[CV] C=0.2395026619987486 ............................................\n",
      "[CV] ................ C=0.2395026619987486, score=0.775, total=   0.0s\n",
      "[CV] C=0.2395026619987486 ............................................\n",
      "[CV] ................ C=0.2395026619987486, score=0.757, total=   0.0s\n",
      "[CV] C=0.2395026619987486 ............................................\n",
      "[CV] ................ C=0.2395026619987486, score=0.778, total=   0.0s\n",
      "[CV] C=0.3039195382313198 ............................................\n",
      "[CV] ................ C=0.3039195382313198, score=0.777, total=   0.0s\n",
      "[CV] C=0.3039195382313198 ............................................\n",
      "[CV] ................ C=0.3039195382313198, score=0.770, total=   0.0s\n",
      "[CV] C=0.3039195382313198 ............................................\n",
      "[CV] ................ C=0.3039195382313198, score=0.779, total=   0.0s\n",
      "[CV] C=0.3039195382313198 ............................................\n",
      "[CV] ................ C=0.3039195382313198, score=0.760, total=   0.0s\n",
      "[CV] C=0.3039195382313198 ............................................\n",
      "[CV] ................ C=0.3039195382313198, score=0.778, total=   0.0s\n",
      "[CV] C=0.38566204211634725 ...........................................\n"
     ]
    },
    {
     "name": "stdout",
     "output_type": "stream",
     "text": [
      "[CV] ............... C=0.38566204211634725, score=0.775, total=   0.0s\n",
      "[CV] C=0.38566204211634725 ...........................................\n",
      "[CV] ............... C=0.38566204211634725, score=0.771, total=   0.0s\n",
      "[CV] C=0.38566204211634725 ...........................................\n",
      "[CV] ............... C=0.38566204211634725, score=0.779, total=   0.0s\n",
      "[CV] C=0.38566204211634725 ...........................................\n",
      "[CV] ............... C=0.38566204211634725, score=0.762, total=   0.0s\n",
      "[CV] C=0.38566204211634725 ...........................................\n",
      "[CV] ............... C=0.38566204211634725, score=0.777, total=   0.0s\n",
      "[CV] C=0.4893900918477494 ............................................\n",
      "[CV] ................ C=0.4893900918477494, score=0.776, total=   0.0s\n",
      "[CV] C=0.4893900918477494 ............................................\n",
      "[CV] ................ C=0.4893900918477494, score=0.770, total=   0.0s\n",
      "[CV] C=0.4893900918477494 ............................................\n",
      "[CV] ................ C=0.4893900918477494, score=0.779, total=   0.0s\n",
      "[CV] C=0.4893900918477494 ............................................\n",
      "[CV] ................ C=0.4893900918477494, score=0.761, total=   0.0s\n",
      "[CV] C=0.4893900918477494 ............................................\n",
      "[CV] ................ C=0.4893900918477494, score=0.777, total=   0.0s\n",
      "[CV] C=0.6210169418915616 ............................................\n",
      "[CV] ................ C=0.6210169418915616, score=0.775, total=   0.0s\n",
      "[CV] C=0.6210169418915616 ............................................\n",
      "[CV] ................ C=0.6210169418915616, score=0.767, total=   0.0s\n",
      "[CV] C=0.6210169418915616 ............................................\n",
      "[CV] ................ C=0.6210169418915616, score=0.779, total=   0.0s\n",
      "[CV] C=0.6210169418915616 ............................................\n",
      "[CV] ................ C=0.6210169418915616, score=0.760, total=   0.0s\n",
      "[CV] C=0.6210169418915616 ............................................\n",
      "[CV] ................ C=0.6210169418915616, score=0.776, total=   0.0s\n",
      "[CV] C=0.7880462815669912 ............................................\n",
      "[CV] ................ C=0.7880462815669912, score=0.775, total=   0.0s\n",
      "[CV] C=0.7880462815669912 ............................................\n",
      "[CV] ................ C=0.7880462815669912, score=0.766, total=   0.0s\n",
      "[CV] C=0.7880462815669912 ............................................\n",
      "[CV] ................ C=0.7880462815669912, score=0.780, total=   0.0s\n",
      "[CV] C=0.7880462815669912 ............................................\n",
      "[CV] ................ C=0.7880462815669912, score=0.759, total=   0.0s\n",
      "[CV] C=0.7880462815669912 ............................................\n",
      "[CV] ................ C=0.7880462815669912, score=0.775, total=   0.0s\n",
      "[CV] C=1.0 ...........................................................\n",
      "[CV] ............................... C=1.0, score=0.774, total=   0.0s\n",
      "[CV] C=1.0 ...........................................................\n",
      "[CV] ............................... C=1.0, score=0.768, total=   0.0s\n",
      "[CV] C=1.0 ...........................................................\n",
      "[CV] ............................... C=1.0, score=0.779, total=   0.0s\n",
      "[CV] C=1.0 ...........................................................\n",
      "[CV] ............................... C=1.0, score=0.758, total=   0.1s\n",
      "[CV] C=1.0 ...........................................................\n",
      "[CV] ............................... C=1.0, score=0.773, total=   0.0s\n"
     ]
    },
    {
     "name": "stderr",
     "output_type": "stream",
     "text": [
      "[Parallel(n_jobs=1)]: Done 150 out of 150 | elapsed:    2.0s finished\n"
     ]
    }
   ],
   "source": [
    "# define model\n",
    "logreg = LogisticRegression(penalty='l1', random_state=13, max_iter=10000, solver='saga')\n",
    "\n",
    "# define gridsearch\n",
    "tuned_parameters = [{'C': C_values}]\n",
    "nb_folds = 5\n",
    "grid = GridSearchCV(logreg, tuned_parameters, cv=nb_folds, refit=False, verbose=3)\n",
    "\n",
    "# run gridsearch \n",
    "grid.fit(X_train_processed_minmax, y_train)\n",
    "\n",
    "# get R2 (default score with Lasso models)\n",
    "scores = grid.cv_results_['mean_test_score']\n",
    "scores_std = grid.cv_results_['std_test_score']\n",
    "\n",
    "# compute standard errors\n",
    "std_error = scores_std / np.sqrt(nb_folds)"
   ]
  },
  {
   "cell_type": "code",
   "execution_count": 59,
   "metadata": {},
   "outputs": [
    {
     "name": "stdout",
     "output_type": "stream",
     "text": [
      "optimal C: 0.0728\n",
      "best R2 (test set): 0.7740\n"
     ]
    }
   ],
   "source": [
    "# get optimal C\n",
    "i_max = np.argmax(scores)\n",
    "best_C = C_values[i_max]\n",
    "best_score = scores[i_max]\n",
    "print(\"optimal C: {0:0.4f}\".format(best_C))\n",
    "print(\"best R2 (test set): {0:0.4f}\".format(best_score))"
   ]
  },
  {
   "cell_type": "code",
   "execution_count": 60,
   "metadata": {},
   "outputs": [
    {
     "data": {
      "text/plain": [
       "LogisticRegression(C=0.0728, class_weight=None, dual=False, fit_intercept=True,\n",
       "                   intercept_scaling=1, l1_ratio=None, max_iter=100,\n",
       "                   multi_class='auto', n_jobs=None, penalty='l1',\n",
       "                   random_state=None, solver='saga', tol=0.0001, verbose=0,\n",
       "                   warm_start=False)"
      ]
     },
     "execution_count": 60,
     "metadata": {},
     "output_type": "execute_result"
    }
   ],
   "source": [
    "logreg = LogisticRegression(penalty='l1', C=0.0728, solver='saga')\n",
    "logreg.fit(X_train_processed_minmax, y_train)"
   ]
  },
  {
   "cell_type": "code",
   "execution_count": 61,
   "metadata": {},
   "outputs": [],
   "source": [
    "y_preprocessed = logreg.predict(X_test_processed_minmax)"
   ]
  },
  {
   "cell_type": "code",
   "execution_count": 62,
   "metadata": {},
   "outputs": [
    {
     "name": "stdout",
     "output_type": "stream",
     "text": [
      "0.7745098039215687\n"
     ]
    }
   ],
   "source": [
    "f1_logreg_opt_minmax = metrics.f1_score(y_test,y_preprocessed)\n",
    "print(f1_logreg_opt_minmax)"
   ]
  },
  {
   "cell_type": "markdown",
   "metadata": {},
   "source": [
    "#### Question 14\n",
    "\n",
    "Entraînez une forêt aléatoire sur le jeu d'entraînement et évaluez son F-score sur le jeu de test.\n",
    "\n",
    "__Conseils :__\n",
    "* Vous trouverez les outils nécessaires dans la classe `RandomForestClassifier` du module `ensemble` de `scikit-learn`.\n",
    "* Choisissez le nombre d'arbres par validation croisée."
   ]
  },
  {
   "cell_type": "code",
   "execution_count": 63,
   "metadata": {},
   "outputs": [],
   "source": [
    "from sklearn.ensemble import RandomForestClassifier"
   ]
  },
  {
   "cell_type": "code",
   "execution_count": 64,
   "metadata": {},
   "outputs": [
    {
     "data": {
      "text/plain": [
       "array([10, 20, 30, 40, 50, 60, 70, 80, 90])"
      ]
     },
     "execution_count": 64,
     "metadata": {},
     "output_type": "execute_result"
    }
   ],
   "source": [
    "n_values = np.arange(10, 100, 10)\n",
    "n_values"
   ]
  },
  {
   "cell_type": "code",
   "execution_count": 65,
   "metadata": {},
   "outputs": [
    {
     "name": "stderr",
     "output_type": "stream",
     "text": [
      "[Parallel(n_jobs=1)]: Using backend SequentialBackend with 1 concurrent workers.\n"
     ]
    },
    {
     "name": "stdout",
     "output_type": "stream",
     "text": [
      "Fitting 5 folds for each of 9 candidates, totalling 45 fits\n",
      "[CV] n_estimators=10 .................................................\n",
      "[CV] ..................... n_estimators=10, score=0.917, total=   0.1s\n",
      "[CV] n_estimators=10 .................................................\n"
     ]
    },
    {
     "name": "stderr",
     "output_type": "stream",
     "text": [
      "[Parallel(n_jobs=1)]: Done   1 out of   1 | elapsed:    0.0s remaining:    0.0s\n",
      "[Parallel(n_jobs=1)]: Done   2 out of   2 | elapsed:    0.0s remaining:    0.0s\n"
     ]
    },
    {
     "name": "stdout",
     "output_type": "stream",
     "text": [
      "[CV] ..................... n_estimators=10, score=0.923, total=   0.1s\n",
      "[CV] n_estimators=10 .................................................\n",
      "[CV] ..................... n_estimators=10, score=0.914, total=   0.1s\n",
      "[CV] n_estimators=10 .................................................\n",
      "[CV] ..................... n_estimators=10, score=0.902, total=   0.1s\n",
      "[CV] n_estimators=10 .................................................\n",
      "[CV] ..................... n_estimators=10, score=0.912, total=   0.1s\n",
      "[CV] n_estimators=20 .................................................\n",
      "[CV] ..................... n_estimators=20, score=0.927, total=   0.1s\n",
      "[CV] n_estimators=20 .................................................\n",
      "[CV] ..................... n_estimators=20, score=0.927, total=   0.1s\n",
      "[CV] n_estimators=20 .................................................\n",
      "[CV] ..................... n_estimators=20, score=0.923, total=   0.1s\n",
      "[CV] n_estimators=20 .................................................\n",
      "[CV] ..................... n_estimators=20, score=0.919, total=   0.1s\n",
      "[CV] n_estimators=20 .................................................\n",
      "[CV] ..................... n_estimators=20, score=0.926, total=   0.1s\n",
      "[CV] n_estimators=30 .................................................\n",
      "[CV] ..................... n_estimators=30, score=0.932, total=   0.2s\n",
      "[CV] n_estimators=30 .................................................\n",
      "[CV] ..................... n_estimators=30, score=0.928, total=   0.2s\n",
      "[CV] n_estimators=30 .................................................\n",
      "[CV] ..................... n_estimators=30, score=0.926, total=   0.2s\n",
      "[CV] n_estimators=30 .................................................\n",
      "[CV] ..................... n_estimators=30, score=0.918, total=   0.2s\n",
      "[CV] n_estimators=30 .................................................\n",
      "[CV] ..................... n_estimators=30, score=0.935, total=   0.2s\n",
      "[CV] n_estimators=40 .................................................\n",
      "[CV] ..................... n_estimators=40, score=0.928, total=   0.2s\n",
      "[CV] n_estimators=40 .................................................\n",
      "[CV] ..................... n_estimators=40, score=0.932, total=   0.2s\n",
      "[CV] n_estimators=40 .................................................\n",
      "[CV] ..................... n_estimators=40, score=0.927, total=   0.2s\n",
      "[CV] n_estimators=40 .................................................\n",
      "[CV] ..................... n_estimators=40, score=0.919, total=   0.2s\n",
      "[CV] n_estimators=40 .................................................\n",
      "[CV] ..................... n_estimators=40, score=0.934, total=   0.2s\n",
      "[CV] n_estimators=50 .................................................\n",
      "[CV] ..................... n_estimators=50, score=0.933, total=   0.3s\n",
      "[CV] n_estimators=50 .................................................\n",
      "[CV] ..................... n_estimators=50, score=0.932, total=   0.3s\n",
      "[CV] n_estimators=50 .................................................\n",
      "[CV] ..................... n_estimators=50, score=0.929, total=   0.3s\n",
      "[CV] n_estimators=50 .................................................\n",
      "[CV] ..................... n_estimators=50, score=0.916, total=   0.3s\n",
      "[CV] n_estimators=50 .................................................\n",
      "[CV] ..................... n_estimators=50, score=0.939, total=   0.3s\n",
      "[CV] n_estimators=60 .................................................\n",
      "[CV] ..................... n_estimators=60, score=0.934, total=   0.3s\n",
      "[CV] n_estimators=60 .................................................\n",
      "[CV] ..................... n_estimators=60, score=0.931, total=   0.3s\n",
      "[CV] n_estimators=60 .................................................\n",
      "[CV] ..................... n_estimators=60, score=0.928, total=   0.3s\n",
      "[CV] n_estimators=60 .................................................\n",
      "[CV] ..................... n_estimators=60, score=0.918, total=   0.3s\n",
      "[CV] n_estimators=60 .................................................\n",
      "[CV] ..................... n_estimators=60, score=0.939, total=   0.3s\n",
      "[CV] n_estimators=70 .................................................\n",
      "[CV] ..................... n_estimators=70, score=0.936, total=   0.4s\n",
      "[CV] n_estimators=70 .................................................\n",
      "[CV] ..................... n_estimators=70, score=0.931, total=   0.4s\n",
      "[CV] n_estimators=70 .................................................\n",
      "[CV] ..................... n_estimators=70, score=0.928, total=   0.4s\n",
      "[CV] n_estimators=70 .................................................\n",
      "[CV] ..................... n_estimators=70, score=0.922, total=   0.4s\n",
      "[CV] n_estimators=70 .................................................\n",
      "[CV] ..................... n_estimators=70, score=0.935, total=   0.4s\n",
      "[CV] n_estimators=80 .................................................\n",
      "[CV] ..................... n_estimators=80, score=0.931, total=   0.5s\n",
      "[CV] n_estimators=80 .................................................\n",
      "[CV] ..................... n_estimators=80, score=0.932, total=   0.4s\n",
      "[CV] n_estimators=80 .................................................\n",
      "[CV] ..................... n_estimators=80, score=0.927, total=   0.5s\n",
      "[CV] n_estimators=80 .................................................\n",
      "[CV] ..................... n_estimators=80, score=0.925, total=   0.5s\n",
      "[CV] n_estimators=80 .................................................\n",
      "[CV] ..................... n_estimators=80, score=0.935, total=   0.5s\n",
      "[CV] n_estimators=90 .................................................\n",
      "[CV] ..................... n_estimators=90, score=0.930, total=   0.5s\n",
      "[CV] n_estimators=90 .................................................\n",
      "[CV] ..................... n_estimators=90, score=0.931, total=   0.5s\n",
      "[CV] n_estimators=90 .................................................\n",
      "[CV] ..................... n_estimators=90, score=0.928, total=   0.5s\n",
      "[CV] n_estimators=90 .................................................\n",
      "[CV] ..................... n_estimators=90, score=0.923, total=   0.5s\n",
      "[CV] n_estimators=90 .................................................\n",
      "[CV] ..................... n_estimators=90, score=0.933, total=   0.5s\n"
     ]
    },
    {
     "name": "stderr",
     "output_type": "stream",
     "text": [
      "[Parallel(n_jobs=1)]: Done  45 out of  45 | elapsed:   12.8s finished\n"
     ]
    }
   ],
   "source": [
    "# define model\n",
    "forest = RandomForestClassifier(random_state=13)\n",
    "\n",
    "# define gridsearch\n",
    "tuned_parameters = [{'n_estimators': n_values}]\n",
    "nb_folds = 5\n",
    "grid = GridSearchCV(forest, tuned_parameters, cv=nb_folds, refit=False, verbose=3)\n",
    "\n",
    "# run gridsearch \n",
    "grid.fit(X_train_processed, y_train)\n",
    "\n",
    "# get R2 (default score with Lasso models)\n",
    "scores = grid.cv_results_['mean_test_score']\n",
    "scores_std = grid.cv_results_['std_test_score']\n",
    "\n",
    "# compute standard errors\n",
    "std_error = scores_std / np.sqrt(nb_folds)"
   ]
  },
  {
   "cell_type": "code",
   "execution_count": 66,
   "metadata": {},
   "outputs": [
    {
     "name": "stdout",
     "output_type": "stream",
     "text": [
      "optimal n: 70.0000\n",
      "best R2 (test set): 0.9306\n"
     ]
    }
   ],
   "source": [
    "# get optimal n\n",
    "i_max = np.argmax(scores)\n",
    "best_n = n_values[i_max]\n",
    "best_score = scores[i_max]\n",
    "print(\"optimal n: {0:0.4f}\".format(best_n))\n",
    "print(\"best R2 (test set): {0:0.4f}\".format(best_score))"
   ]
  },
  {
   "cell_type": "code",
   "execution_count": 67,
   "metadata": {},
   "outputs": [
    {
     "data": {
      "text/plain": [
       "RandomForestClassifier(bootstrap=True, ccp_alpha=0.0, class_weight=None,\n",
       "                       criterion='gini', max_depth=None, max_features='auto',\n",
       "                       max_leaf_nodes=None, max_samples=None,\n",
       "                       min_impurity_decrease=0.0, min_impurity_split=None,\n",
       "                       min_samples_leaf=1, min_samples_split=2,\n",
       "                       min_weight_fraction_leaf=0.0, n_estimators=70,\n",
       "                       n_jobs=None, oob_score=False, random_state=None,\n",
       "                       verbose=0, warm_start=False)"
      ]
     },
     "execution_count": 67,
     "metadata": {},
     "output_type": "execute_result"
    }
   ],
   "source": [
    "forest = RandomForestClassifier(n_estimators=70)\n",
    "forest.fit(X_train_processed, y_train)"
   ]
  },
  {
   "cell_type": "code",
   "execution_count": 68,
   "metadata": {},
   "outputs": [],
   "source": [
    "y_preprocessed = forest.predict(X_test_processed)"
   ]
  },
  {
   "cell_type": "code",
   "execution_count": 69,
   "metadata": {},
   "outputs": [
    {
     "name": "stdout",
     "output_type": "stream",
     "text": [
      "0.943089430894309\n"
     ]
    }
   ],
   "source": [
    "f1_forest_opt = metrics.f1_score(y_test,y_preprocessed)\n",
    "print(f1_forest_opt)"
   ]
  },
  {
   "cell_type": "markdown",
   "metadata": {},
   "source": [
    "##### Minmax"
   ]
  },
  {
   "cell_type": "code",
   "execution_count": 70,
   "metadata": {},
   "outputs": [
    {
     "name": "stdout",
     "output_type": "stream",
     "text": [
      "Fitting 5 folds for each of 9 candidates, totalling 45 fits\n",
      "[CV] n_estimators=10 .................................................\n",
      "[CV] ..................... n_estimators=10, score=0.917, total=   0.1s\n",
      "[CV] n_estimators=10 .................................................\n",
      "[CV] ..................... n_estimators=10, score=0.923, total=   0.1s\n",
      "[CV] n_estimators=10 .................................................\n"
     ]
    },
    {
     "name": "stderr",
     "output_type": "stream",
     "text": [
      "[Parallel(n_jobs=1)]: Using backend SequentialBackend with 1 concurrent workers.\n",
      "[Parallel(n_jobs=1)]: Done   1 out of   1 | elapsed:    0.0s remaining:    0.0s\n",
      "[Parallel(n_jobs=1)]: Done   2 out of   2 | elapsed:    0.0s remaining:    0.0s\n"
     ]
    },
    {
     "name": "stdout",
     "output_type": "stream",
     "text": [
      "[CV] ..................... n_estimators=10, score=0.914, total=   0.1s\n",
      "[CV] n_estimators=10 .................................................\n",
      "[CV] ..................... n_estimators=10, score=0.902, total=   0.1s\n",
      "[CV] n_estimators=10 .................................................\n",
      "[CV] ..................... n_estimators=10, score=0.912, total=   0.0s\n",
      "[CV] n_estimators=20 .................................................\n",
      "[CV] ..................... n_estimators=20, score=0.927, total=   0.1s\n",
      "[CV] n_estimators=20 .................................................\n",
      "[CV] ..................... n_estimators=20, score=0.927, total=   0.1s\n",
      "[CV] n_estimators=20 .................................................\n",
      "[CV] ..................... n_estimators=20, score=0.923, total=   0.1s\n",
      "[CV] n_estimators=20 .................................................\n",
      "[CV] ..................... n_estimators=20, score=0.919, total=   0.1s\n",
      "[CV] n_estimators=20 .................................................\n",
      "[CV] ..................... n_estimators=20, score=0.926, total=   0.1s\n",
      "[CV] n_estimators=30 .................................................\n",
      "[CV] ..................... n_estimators=30, score=0.932, total=   0.2s\n",
      "[CV] n_estimators=30 .................................................\n",
      "[CV] ..................... n_estimators=30, score=0.928, total=   0.2s\n",
      "[CV] n_estimators=30 .................................................\n",
      "[CV] ..................... n_estimators=30, score=0.926, total=   0.2s\n",
      "[CV] n_estimators=30 .................................................\n",
      "[CV] ..................... n_estimators=30, score=0.918, total=   0.2s\n",
      "[CV] n_estimators=30 .................................................\n",
      "[CV] ..................... n_estimators=30, score=0.935, total=   0.2s\n",
      "[CV] n_estimators=40 .................................................\n",
      "[CV] ..................... n_estimators=40, score=0.928, total=   0.2s\n",
      "[CV] n_estimators=40 .................................................\n",
      "[CV] ..................... n_estimators=40, score=0.932, total=   0.2s\n",
      "[CV] n_estimators=40 .................................................\n",
      "[CV] ..................... n_estimators=40, score=0.927, total=   0.2s\n",
      "[CV] n_estimators=40 .................................................\n",
      "[CV] ..................... n_estimators=40, score=0.919, total=   0.2s\n",
      "[CV] n_estimators=40 .................................................\n",
      "[CV] ..................... n_estimators=40, score=0.934, total=   0.2s\n",
      "[CV] n_estimators=50 .................................................\n",
      "[CV] ..................... n_estimators=50, score=0.933, total=   0.3s\n",
      "[CV] n_estimators=50 .................................................\n",
      "[CV] ..................... n_estimators=50, score=0.932, total=   0.3s\n",
      "[CV] n_estimators=50 .................................................\n",
      "[CV] ..................... n_estimators=50, score=0.929, total=   0.3s\n",
      "[CV] n_estimators=50 .................................................\n",
      "[CV] ..................... n_estimators=50, score=0.916, total=   0.3s\n",
      "[CV] n_estimators=50 .................................................\n",
      "[CV] ..................... n_estimators=50, score=0.939, total=   0.3s\n",
      "[CV] n_estimators=60 .................................................\n",
      "[CV] ..................... n_estimators=60, score=0.934, total=   0.3s\n",
      "[CV] n_estimators=60 .................................................\n",
      "[CV] ..................... n_estimators=60, score=0.931, total=   0.3s\n",
      "[CV] n_estimators=60 .................................................\n",
      "[CV] ..................... n_estimators=60, score=0.928, total=   0.3s\n",
      "[CV] n_estimators=60 .................................................\n",
      "[CV] ..................... n_estimators=60, score=0.918, total=   0.3s\n",
      "[CV] n_estimators=60 .................................................\n",
      "[CV] ..................... n_estimators=60, score=0.939, total=   0.3s\n",
      "[CV] n_estimators=70 .................................................\n",
      "[CV] ..................... n_estimators=70, score=0.936, total=   0.4s\n",
      "[CV] n_estimators=70 .................................................\n",
      "[CV] ..................... n_estimators=70, score=0.931, total=   0.4s\n",
      "[CV] n_estimators=70 .................................................\n",
      "[CV] ..................... n_estimators=70, score=0.928, total=   0.4s\n",
      "[CV] n_estimators=70 .................................................\n",
      "[CV] ..................... n_estimators=70, score=0.922, total=   0.4s\n",
      "[CV] n_estimators=70 .................................................\n",
      "[CV] ..................... n_estimators=70, score=0.935, total=   0.4s\n",
      "[CV] n_estimators=80 .................................................\n",
      "[CV] ..................... n_estimators=80, score=0.931, total=   0.4s\n",
      "[CV] n_estimators=80 .................................................\n",
      "[CV] ..................... n_estimators=80, score=0.932, total=   0.5s\n",
      "[CV] n_estimators=80 .................................................\n",
      "[CV] ..................... n_estimators=80, score=0.927, total=   0.5s\n",
      "[CV] n_estimators=80 .................................................\n",
      "[CV] ..................... n_estimators=80, score=0.925, total=   0.4s\n",
      "[CV] n_estimators=80 .................................................\n",
      "[CV] ..................... n_estimators=80, score=0.935, total=   0.4s\n",
      "[CV] n_estimators=90 .................................................\n",
      "[CV] ..................... n_estimators=90, score=0.930, total=   0.5s\n",
      "[CV] n_estimators=90 .................................................\n",
      "[CV] ..................... n_estimators=90, score=0.931, total=   0.5s\n",
      "[CV] n_estimators=90 .................................................\n",
      "[CV] ..................... n_estimators=90, score=0.928, total=   0.5s\n",
      "[CV] n_estimators=90 .................................................\n",
      "[CV] ..................... n_estimators=90, score=0.923, total=   0.5s\n",
      "[CV] n_estimators=90 .................................................\n",
      "[CV] ..................... n_estimators=90, score=0.933, total=   0.5s\n"
     ]
    },
    {
     "name": "stderr",
     "output_type": "stream",
     "text": [
      "[Parallel(n_jobs=1)]: Done  45 out of  45 | elapsed:   12.7s finished\n"
     ]
    }
   ],
   "source": [
    "# define model\n",
    "forest = RandomForestClassifier(random_state=13)\n",
    "\n",
    "# define gridsearch\n",
    "tuned_parameters = [{'n_estimators': n_values}]\n",
    "nb_folds = 5\n",
    "grid = GridSearchCV(forest, tuned_parameters, cv=nb_folds, refit=False, verbose=3)\n",
    "\n",
    "# run gridsearch \n",
    "grid.fit(X_train_processed, y_train)\n",
    "\n",
    "# get R2 (default score with Lasso models)\n",
    "scores = grid.cv_results_['mean_test_score']\n",
    "scores_std = grid.cv_results_['std_test_score']\n",
    "\n",
    "# compute standard errors\n",
    "std_error = scores_std / np.sqrt(nb_folds)"
   ]
  },
  {
   "cell_type": "code",
   "execution_count": 71,
   "metadata": {},
   "outputs": [
    {
     "name": "stdout",
     "output_type": "stream",
     "text": [
      "optimal n: 70.0000\n",
      "best R2 (test set): 0.9306\n"
     ]
    }
   ],
   "source": [
    "# get optimal n\n",
    "i_max = np.argmax(scores)\n",
    "best_n = n_values[i_max]\n",
    "best_score = scores[i_max]\n",
    "print(\"optimal n: {0:0.4f}\".format(best_n))\n",
    "print(\"best R2 (test set): {0:0.4f}\".format(best_score))"
   ]
  },
  {
   "cell_type": "code",
   "execution_count": 72,
   "metadata": {},
   "outputs": [
    {
     "data": {
      "text/plain": [
       "RandomForestClassifier(bootstrap=True, ccp_alpha=0.0, class_weight=None,\n",
       "                       criterion='gini', max_depth=None, max_features='auto',\n",
       "                       max_leaf_nodes=None, max_samples=None,\n",
       "                       min_impurity_decrease=0.0, min_impurity_split=None,\n",
       "                       min_samples_leaf=1, min_samples_split=2,\n",
       "                       min_weight_fraction_leaf=0.0, n_estimators=100,\n",
       "                       n_jobs=None, oob_score=False, random_state=13, verbose=0,\n",
       "                       warm_start=False)"
      ]
     },
     "execution_count": 72,
     "metadata": {},
     "output_type": "execute_result"
    }
   ],
   "source": [
    "forest_minmax = RandomForestClassifier(n_estimators=70)\n",
    "forest.fit(X_train_processed_minmax, y_train)"
   ]
  },
  {
   "cell_type": "code",
   "execution_count": 73,
   "metadata": {},
   "outputs": [],
   "source": [
    "y_preprocessed = forest.predict(X_test_processed_minmax)"
   ]
  },
  {
   "cell_type": "code",
   "execution_count": 74,
   "metadata": {},
   "outputs": [
    {
     "name": "stdout",
     "output_type": "stream",
     "text": [
      "0.9418416801292409\n"
     ]
    }
   ],
   "source": [
    "f1_forest_opt_minmax = metrics.f1_score(y_test,y_preprocessed)\n",
    "print(f1_forest_opt_minmax)"
   ]
  },
  {
   "cell_type": "markdown",
   "metadata": {},
   "source": [
    "## Modèle final"
   ]
  },
  {
   "cell_type": "markdown",
   "metadata": {},
   "source": [
    "#### Question 15.a\n",
    "Visualisez les performances des différents modèles (et pré-traitements) que vous avez évalués sur le jeu de test."
   ]
  },
  {
   "cell_type": "code",
   "execution_count": 75,
   "metadata": {},
   "outputs": [
    {
     "data": {
      "text/plain": [
       "Text(0, 0.5, 'F1s')"
      ]
     },
     "execution_count": 75,
     "metadata": {},
     "output_type": "execute_result"
    },
    {
     "data": {
      "image/png": "[encoded data removed]",
      "text/plain": [
       "<Figure size 432x288 with 1 Axes>"
      ]
     },
     "metadata": {
      "needs_background": "light"
     },
     "output_type": "display_data"
    }
   ],
   "source": [
    "f1s = [f1_neigh, f1_neigh_opt, f1_logreg_no_penalty, f1_logreg_l2, f1_logreg_opt, f1_forest_opt]\n",
    "f1s_labels = ['neigh', 'neigh_opt', 'logreg', 'logreg_l2', 'logreg_opt', 'forest']\n",
    "\n",
    "plt.scatter(np.arange(len(f1s)), f1s)\n",
    "plt.xticks(np.arange(len(f1s)), labels=f1s_labels)\n",
    "\n",
    "plt.xlabel(\"Algorithmes\", fontsize=15)\n",
    "plt.title(\"F1s scores des algorithmes testés\", fontsize=20)\n",
    "plt.ylabel(\"F1s\", fontsize=15)"
   ]
  },
  {
   "cell_type": "code",
   "execution_count": 76,
   "metadata": {},
   "outputs": [
    {
     "name": "stdout",
     "output_type": "stream",
     "text": [
      "forest\n",
      "0.943089430894309\n"
     ]
    }
   ],
   "source": [
    "print(f1s_labels[np.argmax(f1s)])\n",
    "print(np.max(f1s))"
   ]
  },
  {
   "cell_type": "markdown",
   "metadata": {},
   "source": [
    "##### Minmax"
   ]
  },
  {
   "cell_type": "code",
   "execution_count": 77,
   "metadata": {},
   "outputs": [
    {
     "data": {
      "text/plain": [
       "Text(0, 0.5, 'F1s')"
      ]
     },
     "execution_count": 77,
     "metadata": {},
     "output_type": "execute_result"
    },
    {
     "data": {
      "image/png": "[encoded data removed]",
      "text/plain": [
       "<Figure size 432x288 with 1 Axes>"
      ]
     },
     "metadata": {
      "needs_background": "light"
     },
     "output_type": "display_data"
    }
   ],
   "source": [
    "f1s = [f1_neigh_opt_minmax, f1_logreg_opt_minmax, f1_forest_opt_minmax]\n",
    "f1s_labels = ['f1_neigh_opt_minmax', 'f1_logreg_opt_minmax', 'f1_forest_opt_minmax']\n",
    "\n",
    "plt.scatter(np.arange(len(f1s)), f1s)\n",
    "plt.xticks(np.arange(len(f1s)), labels=f1s_labels)\n",
    "plt.xlabel(\"Algorithmes\", fontsize=15)\n",
    "plt.title(\"F1s scores des algorithmes testés\", fontsize=20)\n",
    "plt.ylabel(\"F1s\", fontsize=15)"
   ]
  },
  {
   "cell_type": "code",
   "execution_count": 78,
   "metadata": {},
   "outputs": [
    {
     "name": "stdout",
     "output_type": "stream",
     "text": [
      "f1_forest_opt_minmax\n",
      "0.9418416801292409\n"
     ]
    }
   ],
   "source": [
    "print(f1s_labels[np.argmax(f1s)])\n",
    "print(np.max(f1s))"
   ]
  },
  {
   "cell_type": "markdown",
   "metadata": {},
   "source": [
    "La comparaison des F1-scores nous conduit à choisir les paramètres suivants:\n",
    "- La standardisation MinMax\n",
    "- L'algorithme Forest avec 70 arbres"
   ]
  },
  {
   "cell_type": "markdown",
   "metadata": {},
   "source": [
    "#### En utilisant les courbes ROC"
   ]
  },
  {
   "cell_type": "code",
   "execution_count": 79,
   "metadata": {},
   "outputs": [],
   "source": [
    "from sklearn.metrics import roc_auc_score, plot_roc_curve"
   ]
  },
  {
   "cell_type": "code",
   "execution_count": 80,
   "metadata": {},
   "outputs": [
    {
     "name": "stdout",
     "output_type": "stream",
     "text": [
      "Score ROC : 0.9365166666666667\n"
     ]
    },
    {
     "data": {
      "image/png": "[encoded data removed]",
      "text/plain": [
       "<Figure size 432x288 with 1 Axes>"
      ]
     },
     "metadata": {
      "needs_background": "light"
     },
     "output_type": "display_data"
    }
   ],
   "source": [
    "neigh = neighbors.KNeighborsClassifier(n_neighbors=3)\n",
    "neigh.fit(X_train_processed, y_train)\n",
    "y_preprocessed = neigh.predict_proba(X_test_processed)\n",
    "print(f\"Score ROC : {roc_auc_score(y_test, y_preprocessed[:, 1])}\")\n",
    "plot_roc_curve(neigh, X_test_processed, y_test);"
   ]
  },
  {
   "cell_type": "code",
   "execution_count": 81,
   "metadata": {},
   "outputs": [
    {
     "name": "stdout",
     "output_type": "stream",
     "text": [
      "Score ROC : 0.825463888888889\n"
     ]
    },
    {
     "data": {
      "image/png": "[encoded data removed]",
      "text/plain": [
       "<Figure size 432x288 with 1 Axes>"
      ]
     },
     "metadata": {
      "needs_background": "light"
     },
     "output_type": "display_data"
    }
   ],
   "source": [
    "logreg = LogisticRegression(penalty='l1', C=0.0042, solver='saga')\n",
    "logreg.fit(X_train_processed, y_train)\n",
    "y_preprocessed = logreg.predict_proba(X_test_processed)\n",
    "print(f\"Score ROC : {roc_auc_score(y_test, y_preprocessed[:, 1])}\")\n",
    "plot_roc_curve(logreg, X_test_processed, y_test);"
   ]
  },
  {
   "cell_type": "code",
   "execution_count": 82,
   "metadata": {},
   "outputs": [
    {
     "name": "stdout",
     "output_type": "stream",
     "text": [
      "Score ROC : 0.983873611111111\n"
     ]
    },
    {
     "data": {
      "image/png": "[encoded data removed]",
      "text/plain": [
       "<Figure size 432x288 with 1 Axes>"
      ]
     },
     "metadata": {
      "needs_background": "light"
     },
     "output_type": "display_data"
    }
   ],
   "source": [
    "forest = RandomForestClassifier(n_estimators=70)\n",
    "forest.fit(X_train_processed, y_train)\n",
    "y_preprocessed = forest.predict_proba(X_test_processed)\n",
    "print(f\"Score ROC : {roc_auc_score(y_test, y_preprocessed[:, 1])}\")\n",
    "plot_roc_curve(forest, X_test_processed, y_test);"
   ]
  },
  {
   "cell_type": "markdown",
   "metadata": {},
   "source": [
    "##### MinMax"
   ]
  },
  {
   "cell_type": "code",
   "execution_count": 83,
   "metadata": {},
   "outputs": [
    {
     "name": "stdout",
     "output_type": "stream",
     "text": [
      "Score ROC : 0.9396152777777778\n"
     ]
    },
    {
     "data": {
      "image/png": "[encoded data removed]",
      "text/plain": [
       "<Figure size 432x288 with 1 Axes>"
      ]
     },
     "metadata": {
      "needs_background": "light"
     },
     "output_type": "display_data"
    }
   ],
   "source": [
    "neigh_minmax = neighbors.KNeighborsClassifier(n_neighbors=3)\n",
    "neigh_minmax.fit(X_train_processed_minmax, y_train)\n",
    "y_preprocessed = neigh_minmax.predict_proba(X_test_processed_minmax)\n",
    "print(f\"Score ROC : {roc_auc_score(y_test, y_preprocessed[:, 1])}\")\n",
    "plot_roc_curve(neigh_minmax, X_test_processed_minmax, y_test);"
   ]
  },
  {
   "cell_type": "code",
   "execution_count": 84,
   "metadata": {},
   "outputs": [
    {
     "name": "stdout",
     "output_type": "stream",
     "text": [
      "Score ROC : 0.8309166666666667\n"
     ]
    },
    {
     "data": {
      "image/png": "[encoded data removed]",
      "text/plain": [
       "<Figure size 432x288 with 1 Axes>"
      ]
     },
     "metadata": {
      "needs_background": "light"
     },
     "output_type": "display_data"
    }
   ],
   "source": [
    "logreg_minmax = LogisticRegression(penalty='l1', C=0.0728, solver='saga')\n",
    "logreg_minmax.fit(X_train_processed_minmax, y_train)\n",
    "y_preprocessed = logreg_minmax.predict_proba(X_test_processed_minmax)\n",
    "print(f\"Score ROC : {roc_auc_score(y_test, y_preprocessed[:, 1])}\")\n",
    "plot_roc_curve(logreg_minmax, X_test_processed_minmax, y_test);"
   ]
  },
  {
   "cell_type": "code",
   "execution_count": 85,
   "metadata": {},
   "outputs": [
    {
     "name": "stdout",
     "output_type": "stream",
     "text": [
      "Score ROC : 0.9837458333333333\n"
     ]
    },
    {
     "data": {
      "image/png": "[encoded data removed]",
      "text/plain": [
       "<Figure size 432x288 with 1 Axes>"
      ]
     },
     "metadata": {
      "needs_background": "light"
     },
     "output_type": "display_data"
    }
   ],
   "source": [
    "forest_minmax = RandomForestClassifier(n_estimators=70)\n",
    "forest_minmax.fit(X_train_processed_minmax, y_train)\n",
    "y_preprocessed = forest_minmax.predict_proba(X_test_processed_minmax)\n",
    "print(f\"Score ROC : {roc_auc_score(y_test, y_preprocessed[:, 1])}\")\n",
    "plot_roc_curve(forest_minmax, X_test_processed_minmax, y_test);"
   ]
  },
  {
   "cell_type": "markdown",
   "metadata": {},
   "source": [
    "L'analyse des courbes ROC et du score AUC (aire sous la courbe ROC qui l'on cherche à maximiser) nous conduit à choisir le même modèle que l'étude des F1-scores, c'est-à-dire:\n",
    "- La standardisation MinMax\n",
    "- L'algorithme Forest avec 70 arbres"
   ]
  },
  {
   "cell_type": "markdown",
   "metadata": {},
   "source": [
    "#### Question 15.b\n",
    "Utilisez cette figure pour __sélectionner votre modèle favori__. Quel pré-traitement choisissez-vous ? Quel algorithme choisissez-vous, avec quel hyper-paramètre ? "
   ]
  },
  {
   "cell_type": "markdown",
   "metadata": {},
   "source": [
    "Voir les remarques précédentes.  \n",
    "Le modèle choisi est:\n",
    "- Standardisation avec l'algorithme MinMax\n",
    "- Prédiction avec l'algorithme Forest (70 arbres)"
   ]
  },
  {
   "cell_type": "markdown",
   "metadata": {},
   "source": [
    "#### Question 16.a\n",
    "Chargez les données privées de `data/foret_prive.tsv` pour obtenir un array `X_private`. Le fichier suit la même syntaxe que `data/foret_public.tsv`, mais sans la colonne des étiquettes."
   ]
  },
  {
   "cell_type": "code",
   "execution_count": 86,
   "metadata": {},
   "outputs": [],
   "source": [
    "df_private = pd.read_csv('data/foret_prive.tsv', delimiter='\\t')"
   ]
  },
  {
   "cell_type": "code",
   "execution_count": 87,
   "metadata": {},
   "outputs": [
    {
     "data": {
      "text/html": [
       "<div>\n",
       "<style scoped>\n",
       "    .dataframe tbody tr th:only-of-type {\n",
       "        vertical-align: middle;\n",
       "    }\n",
       "\n",
       "    .dataframe tbody tr th {\n",
       "        vertical-align: top;\n",
       "    }\n",
       "\n",
       "    .dataframe thead th {\n",
       "        text-align: right;\n",
       "    }\n",
       "</style>\n",
       "<table border=\"1\" class=\"dataframe\">\n",
       "  <thead>\n",
       "    <tr style=\"text-align: right;\">\n",
       "      <th></th>\n",
       "      <th>altitude</th>\n",
       "      <th>exposition</th>\n",
       "      <th>pente</th>\n",
       "      <th>distance_horizontale_hydro</th>\n",
       "      <th>distance_verticale_hydro</th>\n",
       "      <th>distance_horizontale_route</th>\n",
       "      <th>ombrage_0900</th>\n",
       "      <th>ombrage_1200</th>\n",
       "      <th>ombrage_1500</th>\n",
       "      <th>distance_horizontale_depart_feu</th>\n",
       "    </tr>\n",
       "  </thead>\n",
       "  <tbody>\n",
       "    <tr>\n",
       "      <th>0</th>\n",
       "      <td>2654</td>\n",
       "      <td>42</td>\n",
       "      <td>15</td>\n",
       "      <td>60</td>\n",
       "      <td>7</td>\n",
       "      <td>1862</td>\n",
       "      <td>221</td>\n",
       "      <td>206</td>\n",
       "      <td>116</td>\n",
       "      <td>6907</td>\n",
       "    </tr>\n",
       "    <tr>\n",
       "      <th>1</th>\n",
       "      <td>2649</td>\n",
       "      <td>24</td>\n",
       "      <td>13</td>\n",
       "      <td>30</td>\n",
       "      <td>2</td>\n",
       "      <td>1832</td>\n",
       "      <td>213</td>\n",
       "      <td>211</td>\n",
       "      <td>133</td>\n",
       "      <td>6889</td>\n",
       "    </tr>\n",
       "    <tr>\n",
       "      <th>2</th>\n",
       "      <td>2647</td>\n",
       "      <td>357</td>\n",
       "      <td>16</td>\n",
       "      <td>0</td>\n",
       "      <td>0</td>\n",
       "      <td>1802</td>\n",
       "      <td>194</td>\n",
       "      <td>210</td>\n",
       "      <td>152</td>\n",
       "      <td>6870</td>\n",
       "    </tr>\n",
       "    <tr>\n",
       "      <th>3</th>\n",
       "      <td>2650</td>\n",
       "      <td>5</td>\n",
       "      <td>19</td>\n",
       "      <td>0</td>\n",
       "      <td>0</td>\n",
       "      <td>1772</td>\n",
       "      <td>192</td>\n",
       "      <td>199</td>\n",
       "      <td>141</td>\n",
       "      <td>6852</td>\n",
       "    </tr>\n",
       "    <tr>\n",
       "      <th>4</th>\n",
       "      <td>2645</td>\n",
       "      <td>25</td>\n",
       "      <td>24</td>\n",
       "      <td>30</td>\n",
       "      <td>7</td>\n",
       "      <td>1742</td>\n",
       "      <td>201</td>\n",
       "      <td>182</td>\n",
       "      <td>108</td>\n",
       "      <td>6834</td>\n",
       "    </tr>\n",
       "  </tbody>\n",
       "</table>\n",
       "</div>"
      ],
      "text/plain": [
       "   altitude  exposition  pente  distance_horizontale_hydro  \\\n",
       "0      2654          42     15                          60   \n",
       "1      2649          24     13                          30   \n",
       "2      2647         357     16                           0   \n",
       "3      2650           5     19                           0   \n",
       "4      2645          25     24                          30   \n",
       "\n",
       "   distance_verticale_hydro  distance_horizontale_route  ombrage_0900  \\\n",
       "0                         7                        1862           221   \n",
       "1                         2                        1832           213   \n",
       "2                         0                        1802           194   \n",
       "3                         0                        1772           192   \n",
       "4                         7                        1742           201   \n",
       "\n",
       "   ombrage_1200  ombrage_1500  distance_horizontale_depart_feu  \n",
       "0           206           116                             6907  \n",
       "1           211           133                             6889  \n",
       "2           210           152                             6870  \n",
       "3           199           141                             6852  \n",
       "4           182           108                             6834  "
      ]
     },
     "execution_count": 87,
     "metadata": {},
     "output_type": "execute_result"
    }
   ],
   "source": [
    "df_private.head()"
   ]
  },
  {
   "cell_type": "code",
   "execution_count": 88,
   "metadata": {},
   "outputs": [],
   "source": [
    "X_private = np.array(df_private)"
   ]
  },
  {
   "cell_type": "markdown",
   "metadata": {},
   "source": [
    "#### Question 16.b\n",
    "Appliquez le pré-traitement que vous avez choisi à l'intégralité du jeu de données public `X_public` pour obtenir `X_public_preprocessed`."
   ]
  },
  {
   "cell_type": "code",
   "execution_count": 89,
   "metadata": {},
   "outputs": [
    {
     "data": {
      "text/plain": [
       "MinMaxScaler(copy=True, feature_range=(0, 1))"
      ]
     },
     "execution_count": 89,
     "metadata": {},
     "output_type": "execute_result"
    }
   ],
   "source": [
    "minmax_scaler = preprocessing.MinMaxScaler()\n",
    "minmax_scaler.fit(X_public)"
   ]
  },
  {
   "cell_type": "code",
   "execution_count": 90,
   "metadata": {},
   "outputs": [],
   "source": [
    "X_public_preprocessed = minmax_scaler.transform(X_public)"
   ]
  },
  {
   "cell_type": "markdown",
   "metadata": {},
   "source": [
    "#### Question 16.c\n",
    "Appliquez à `X_private` le pré-traitement que vous avez choisi ; enregistrez le résultat dans `X_private_preprocessed`."
   ]
  },
  {
   "cell_type": "code",
   "execution_count": 91,
   "metadata": {},
   "outputs": [],
   "source": [
    "X_private_preprocessed = minmax_scaler.transform(X_private)"
   ]
  },
  {
   "cell_type": "markdown",
   "metadata": {},
   "source": [
    "#### Question 16.d\n",
    "Entraînez l'algorithme que vous avez sélectionné sur l'intégralité des données publiques `(X_public_processed, y_public)`. "
   ]
  },
  {
   "cell_type": "code",
   "execution_count": 92,
   "metadata": {},
   "outputs": [
    {
     "data": {
      "text/plain": [
       "RandomForestClassifier(bootstrap=True, ccp_alpha=0.0, class_weight=None,\n",
       "                       criterion='gini', max_depth=None, max_features='auto',\n",
       "                       max_leaf_nodes=None, max_samples=None,\n",
       "                       min_impurity_decrease=0.0, min_impurity_split=None,\n",
       "                       min_samples_leaf=1, min_samples_split=2,\n",
       "                       min_weight_fraction_leaf=0.0, n_estimators=70,\n",
       "                       n_jobs=None, oob_score=False, random_state=None,\n",
       "                       verbose=0, warm_start=False)"
      ]
     },
     "execution_count": 92,
     "metadata": {},
     "output_type": "execute_result"
    }
   ],
   "source": [
    "forest = RandomForestClassifier(n_estimators=70)\n",
    "forest.fit(X_public_preprocessed, y_public)"
   ]
  },
  {
   "cell_type": "markdown",
   "metadata": {},
   "source": [
    "#### Question 16.e\n",
    "Prédisez les étiquettes de `X_private_preprocessed` ; enregistrez le résultat dans un array `y_pred_final`"
   ]
  },
  {
   "cell_type": "code",
   "execution_count": 93,
   "metadata": {},
   "outputs": [],
   "source": [
    "y_pred_final = forest.predict(X_private_preprocessed)"
   ]
  },
  {
   "cell_type": "markdown",
   "metadata": {},
   "source": [
    "#### Question 16.f\n",
    "Utilisez le code suivant pour créer le fichier de prédictions que vous rendrez. \n",
    "\n",
    "__Attention__ Si vous ouvrez ce fichier avec un programme externe type Microsoft Excel ou LibreOffice Calc pour le lire, il est possible que ce programme modifie le fichier sans que vous ne le réalisiez. Préférez utiliser une commande bash type `less` ou `cat` ou éditeur de texte simple ; ou alors assurez-vous de relancer la commande."
   ]
  },
  {
   "cell_type": "code",
   "execution_count": 94,
   "metadata": {},
   "outputs": [],
   "source": [
    "# Save array to file\n",
    "np.savetxt(\"test_file.tsv\", \n",
    "           y_pred_final,\n",
    "           fmt=('%d'), \n",
    "           header='Prediction',\n",
    "           delimiter='\\t', comments=\"\")"
   ]
  },
  {
   "cell_type": "markdown",
   "metadata": {},
   "source": [
    "## Bonus"
   ]
  },
  {
   "cell_type": "markdown",
   "metadata": {},
   "source": [
    "1. En alternative au F-score, utilisez des courbes ROC (et l'aire sous ces courbes) pour comparer vos modèles. Attention à utiliser les méthodes `predict_proba()` plutôt que `predict()` pour obtenir des scores non-seuillés plutôt que des prédictions binaires. Documentation pertinente : https://scikit-learn.org/stable/modules/generated/sklearn.metrics.plot_roc_curve.html et  https://scikit-learn.org/stable/modules/generated/sklearn.metrics.roc_auc_score.html.\n",
    "\n",
    "1. Explorez d'autres pré-traitements (comme par exemple le fait de réduire la dimension des données) et d'autres algorithmes d'apprentissage implémentés dans scikit-learn (par exemple SVM, perceptrons multi-couches) pour essayer d'améliorer vos prédictions et reprenez la question 15."
   ]
  }
 ],
 "metadata": {
  "kernelspec": {
   "display_name": "Python 3",
   "language": "python",
   "name": "python3"
  },
  "language_info": {
   "codemirror_mode": {
    "name": "ipython",
    "version": 3
   },
   "file_extension": ".py",
   "mimetype": "text/x-python",
   "name": "python",
   "nbconvert_exporter": "python",
   "pygments_lexer": "ipython3",
   "version": "3.7.6"
  }
 },
 "nbformat": 4,
 "nbformat_minor": 5
}
